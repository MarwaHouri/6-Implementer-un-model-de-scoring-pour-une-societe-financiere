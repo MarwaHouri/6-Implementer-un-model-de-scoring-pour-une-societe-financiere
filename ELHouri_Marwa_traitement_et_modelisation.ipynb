{
 "cells": [
  {
   "cell_type": "code",
   "execution_count": 1,
   "id": "eda45e4d",
   "metadata": {
    "executionInfo": {
     "elapsed": 1055,
     "status": "ok",
     "timestamp": 1665062325654,
     "user": {
      "displayName": "Marwa Houri",
      "userId": "00006557556480876839"
     },
     "user_tz": -120
    },
    "id": "eda45e4d"
   },
   "outputs": [],
   "source": [
    "import numpy as np\n",
    "import pandas as pd\n",
    "import gc\n",
    "import time\n",
    "import pickle\n",
    "from contextlib import contextmanager\n",
    "import matplotlib.pyplot as plt\n",
    "import seaborn as sns\n",
    "import warnings\n",
    "\n",
    "warnings.filterwarnings('ignore')\n",
    "#warnings.simplefilter(action='ignore')\n",
    "from sklearn.model_selection import train_test_split\n",
    "from sklearn.impute import SimpleImputer\n",
    "\n",
    "\n",
    "# Oversample and plot imbalanced dataset with SMOTE\n",
    "from collections import Counter\n",
    "from imblearn.over_sampling import SMOTE\n",
    "from imblearn.under_sampling import RandomUnderSampler\n",
    "from imblearn.pipeline import Pipeline\n",
    "from imblearn.ensemble import BalancedRandomForestClassifier\n",
    "\n",
    "\n",
    "\n",
    "from sklearn.model_selection import cross_val_score\n",
    "from sklearn.metrics import roc_auc_score, roc_curve\n",
    "from sklearn.metrics import confusion_matrix\n",
    "from sklearn.model_selection import KFold, StratifiedKFold\n",
    "from sklearn.dummy import DummyClassifier\n",
    "from sklearn.linear_model import LogisticRegression\n",
    "from sklearn.neighbors import KNeighborsClassifier\n",
    "from sklearn.model_selection import train_test_split\n",
    "from sklearn.metrics import classification_report\n",
    "\n",
    "from sklearn.dummy import DummyClassifier\n",
    "from sklearn.linear_model import LogisticRegression\n",
    "from sklearn.ensemble import RandomForestClassifier\n",
    "import lightgbm as lgb\n"
   ]
  },
  {
   "cell_type": "markdown",
   "id": "07a33b7f",
   "metadata": {},
   "source": [
    "# Merge des differents jeux de donnees\n",
    "En utilisant le kernel kaggle"
   ]
  },
  {
   "cell_type": "code",
   "execution_count": 2,
   "id": "21ed34aa",
   "metadata": {
    "executionInfo": {
     "elapsed": 387,
     "status": "ok",
     "timestamp": 1665047004791,
     "user": {
      "displayName": "Marwa Houri",
      "userId": "00006557556480876839"
     },
     "user_tz": -120
    },
    "id": "21ed34aa"
   },
   "outputs": [],
   "source": [
    "@contextmanager\n",
    "def timer(title):\n",
    "    t0 = time.time()\n",
    "    yield\n",
    "    print(\"{} - done in {:.0f}s\".format(title, time.time() - t0))"
   ]
  },
  {
   "cell_type": "code",
   "execution_count": 3,
   "id": "d4d6fe5c",
   "metadata": {
    "executionInfo": {
     "elapsed": 386,
     "status": "ok",
     "timestamp": 1665047006771,
     "user": {
      "displayName": "Marwa Houri",
      "userId": "00006557556480876839"
     },
     "user_tz": -120
    },
    "id": "d4d6fe5c"
   },
   "outputs": [],
   "source": [
    "# One-hot encoding for categorical columns with get_dummies\n",
    "def one_hot_encoder(df, nan_as_category = True):\n",
    "    original_columns = list(df.columns)\n",
    "    categorical_columns = [col for col in df.columns if df[col].dtype == 'object']\n",
    "    df = pd.get_dummies(df, columns= categorical_columns, dummy_na= nan_as_category)\n",
    "    new_columns = [c for c in df.columns if c not in original_columns]\n",
    "    return df, new_columns"
   ]
  },
  {
   "cell_type": "code",
   "execution_count": 4,
   "id": "eca48d82",
   "metadata": {
    "executionInfo": {
     "elapsed": 3,
     "status": "ok",
     "timestamp": 1665047008837,
     "user": {
      "displayName": "Marwa Houri",
      "userId": "00006557556480876839"
     },
     "user_tz": -120
    },
    "id": "eca48d82"
   },
   "outputs": [],
   "source": [
    "# Preprocess application_train.csv and application_test.csv\n",
    "def application_train_test(num_rows = None, nan_as_category = False):\n",
    "    # Read data and merge\n",
    "    df = pd.read_csv('application_train.csv', nrows= num_rows)\n",
    "    #test_df = pd.read_csv('application_test.csv', nrows= num_rows)\n",
    "    print(\"Train samples: {}\".format(len(df)))\n",
    "    #df = df.append(test_df).reset_index()\n",
    "    # Optional: Remove 4 applications with XNA CODE_GENDER (train set)\n",
    "    df = df[df['CODE_GENDER'] != 'XNA']\n",
    "         # Categorical features with Binary encode (0 or 1; two categories)\n",
    "    for bin_feature in ['CODE_GENDER', 'FLAG_OWN_CAR', 'FLAG_OWN_REALTY']:\n",
    "        df[bin_feature], uniques = pd.factorize(df[bin_feature])\n",
    "    # Categorical features with One-Hot encode\n",
    "    df, cat_cols = one_hot_encoder(df, nan_as_category)\n",
    "    \n",
    "    # NaN values for DAYS_EMPLOYED: 365.243 -> nan\n",
    "    #les seules valeurs positives dans \"Days_Employed\" sont les valeurs 365.243\n",
    "    df['DAYS_EMPLOYED'].replace(365243, np.nan, inplace= True)\n",
    "    # Some simple new features (percentages)\n",
    "    df['DAYS_EMPLOYED_PERC'] = df['DAYS_EMPLOYED'] / df['DAYS_BIRTH']\n",
    "    df['INCOME_CREDIT_PERC'] = df['AMT_INCOME_TOTAL'] / df['AMT_CREDIT']\n",
    "    df['INCOME_PER_PERSON'] = df['AMT_INCOME_TOTAL'] / df['CNT_FAM_MEMBERS']\n",
    "    df['ANNUITY_INCOME_PERC'] = df['AMT_ANNUITY'] / df['AMT_INCOME_TOTAL']\n",
    "    df['PAYMENT_RATE'] = df['AMT_ANNUITY'] / df['AMT_CREDIT']\n",
    "    #del test_df\n",
    "    gc.collect()\n",
    "    return df"
   ]
  },
  {
   "cell_type": "code",
   "execution_count": 5,
   "id": "5a9a032b",
   "metadata": {
    "executionInfo": {
     "elapsed": 933,
     "status": "ok",
     "timestamp": 1665047019931,
     "user": {
      "displayName": "Marwa Houri",
      "userId": "00006557556480876839"
     },
     "user_tz": -120
    },
    "id": "5a9a032b"
   },
   "outputs": [],
   "source": [
    "# Preprocess bureau.csv and bureau_balance.csv\n",
    "def bureau_and_balance(num_rows = None, nan_as_category = True):\n",
    "    bureau = pd.read_csv('bureau.csv', nrows = num_rows)\n",
    "    bb = pd.read_csv('bureau_balance.csv', nrows = num_rows)\n",
    "    bb, bb_cat = one_hot_encoder(bb, nan_as_category)\n",
    "    bureau, bureau_cat = one_hot_encoder(bureau, nan_as_category)\n",
    "    \n",
    "    # Bureau balance: Perform aggregations and merge with bureau.csv\n",
    "    bb_aggregations = {'MONTHS_BALANCE': ['min', 'max', 'size']}\n",
    "    for col in bb_cat:\n",
    "        bb_aggregations[col] = ['mean']\n",
    "    bb_agg = bb.groupby('SK_ID_BUREAU').agg(bb_aggregations)\n",
    "    bb_agg.columns = pd.Index([e[0] + \"_\" + e[1].upper() for e in bb_agg.columns.tolist()])\n",
    "    bureau = bureau.join(bb_agg, how='left', on='SK_ID_BUREAU')\n",
    "    bureau.drop(['SK_ID_BUREAU'], axis=1, inplace= True)\n",
    "    del bb, bb_agg\n",
    "    gc.collect()\n",
    "    \n",
    "    # Bureau and bureau_balance numeric features\n",
    "    num_aggregations = {\n",
    "        'DAYS_CREDIT': ['min', 'max', 'mean', 'var'],\n",
    "        'DAYS_CREDIT_ENDDATE': ['min', 'max', 'mean'],\n",
    "        'DAYS_CREDIT_UPDATE': ['mean'],\n",
    "        'CREDIT_DAY_OVERDUE': ['max', 'mean'],\n",
    "        'AMT_CREDIT_MAX_OVERDUE': ['mean'],\n",
    "        'AMT_CREDIT_SUM': ['max', 'mean', 'sum'],\n",
    "        'AMT_CREDIT_SUM_DEBT': ['max', 'mean', 'sum'],\n",
    "        'AMT_CREDIT_SUM_OVERDUE': ['mean'],\n",
    "        'AMT_CREDIT_SUM_LIMIT': ['mean', 'sum'],\n",
    "        'AMT_ANNUITY': ['max', 'mean'],\n",
    "        'CNT_CREDIT_PROLONG': ['sum'],\n",
    "        'MONTHS_BALANCE_MIN': ['min'],\n",
    "        'MONTHS_BALANCE_MAX': ['max'],\n",
    "        'MONTHS_BALANCE_SIZE': ['mean', 'sum']\n",
    "    }\n",
    "    # Bureau and bureau_balance categorical features\n",
    "    cat_aggregations = {}\n",
    "    for cat in bureau_cat: cat_aggregations[cat] = ['mean']\n",
    "    for cat in bb_cat: cat_aggregations[cat + \"_MEAN\"] = ['mean']\n",
    "    \n",
    "    bureau_agg = bureau.groupby('SK_ID_CURR').agg({**num_aggregations, **cat_aggregations})\n",
    "    bureau_agg.columns = pd.Index(['BURO_' + e[0] + \"_\" + e[1].upper() for e in bureau_agg.columns.tolist()])\n",
    "    # Bureau: Active credits - using only numerical aggregations\n",
    "    active = bureau[bureau['CREDIT_ACTIVE_Active'] == 1]\n",
    "    active_agg = active.groupby('SK_ID_CURR').agg(num_aggregations)\n",
    "    active_agg.columns = pd.Index(['ACTIVE_' + e[0] + \"_\" + e[1].upper() for e in active_agg.columns.tolist()])\n",
    "    bureau_agg = bureau_agg.join(active_agg, how='left', on='SK_ID_CURR')\n",
    "    del active, active_agg\n",
    "    gc.collect()\n",
    "    # Bureau: Closed credits - using only numerical aggregations\n",
    "    closed = bureau[bureau['CREDIT_ACTIVE_Closed'] == 1]\n",
    "    closed_agg = closed.groupby('SK_ID_CURR').agg(num_aggregations)\n",
    "    closed_agg.columns = pd.Index(['CLOSED_' + e[0] + \"_\" + e[1].upper() for e in closed_agg.columns.tolist()])\n",
    "    bureau_agg = bureau_agg.join(closed_agg, how='left', on='SK_ID_CURR')\n",
    "    del closed, closed_agg, bureau\n",
    "    gc.collect()\n",
    "    return bureau_agg"
   ]
  },
  {
   "cell_type": "code",
   "execution_count": 6,
   "id": "bc857431",
   "metadata": {
    "executionInfo": {
     "elapsed": 396,
     "status": "ok",
     "timestamp": 1665047028424,
     "user": {
      "displayName": "Marwa Houri",
      "userId": "00006557556480876839"
     },
     "user_tz": -120
    },
    "id": "bc857431"
   },
   "outputs": [],
   "source": [
    "# Preprocess previous_applications.csv\n",
    "def previous_applications(num_rows = None, nan_as_category = True):\n",
    "    prev = pd.read_csv('previous_application.csv', nrows = num_rows)\n",
    "    prev, cat_cols = one_hot_encoder(prev, nan_as_category= True)\n",
    "    # Days 365.243 values -> nan\n",
    "    prev['DAYS_FIRST_DRAWING'].replace(365243, np.nan, inplace= True)\n",
    "    prev['DAYS_FIRST_DUE'].replace(365243, np.nan, inplace= True)\n",
    "    prev['DAYS_LAST_DUE_1ST_VERSION'].replace(365243, np.nan, inplace= True)\n",
    "    prev['DAYS_LAST_DUE'].replace(365243, np.nan, inplace= True)\n",
    "    prev['DAYS_TERMINATION'].replace(365243, np.nan, inplace= True)\n",
    "    # Add feature: value ask / value received percentage\n",
    "    prev['APP_CREDIT_PERC'] = prev['AMT_APPLICATION'] / prev['AMT_CREDIT']\n",
    "    # Previous applications numeric features\n",
    "    num_aggregations = {\n",
    "        'AMT_ANNUITY': ['min', 'max', 'mean'],\n",
    "        'AMT_APPLICATION': ['min', 'max', 'mean'],\n",
    "        'AMT_CREDIT': ['min', 'max', 'mean'],\n",
    "        'APP_CREDIT_PERC': ['min', 'max', 'mean', 'var'],\n",
    "        'AMT_DOWN_PAYMENT': ['min', 'max', 'mean'],\n",
    "        'AMT_GOODS_PRICE': ['min', 'max', 'mean'],\n",
    "        'HOUR_APPR_PROCESS_START': ['min', 'max', 'mean'],\n",
    "        'RATE_DOWN_PAYMENT': ['min', 'max', 'mean'],\n",
    "        'DAYS_DECISION': ['min', 'max', 'mean'],\n",
    "        'CNT_PAYMENT': ['mean', 'sum'],\n",
    "    }\n",
    "    # Previous applications categorical features\n",
    "    cat_aggregations = {}\n",
    "    for cat in cat_cols:\n",
    "        cat_aggregations[cat] = ['mean']\n",
    "    \n",
    "    prev_agg = prev.groupby('SK_ID_CURR').agg({**num_aggregations, **cat_aggregations})\n",
    "    prev_agg.columns = pd.Index(['PREV_' + e[0] + \"_\" + e[1].upper() for e in prev_agg.columns.tolist()])\n",
    "    # Previous Applications: Approved Applications - only numerical features\n",
    "    approved = prev[prev['NAME_CONTRACT_STATUS_Approved'] == 1]\n",
    "    approved_agg = approved.groupby('SK_ID_CURR').agg(num_aggregations)\n",
    "    approved_agg.columns = pd.Index(['APPROVED_' + e[0] + \"_\" + e[1].upper() for e in approved_agg.columns.tolist()])\n",
    "    prev_agg = prev_agg.join(approved_agg, how='left', on='SK_ID_CURR')\n",
    "    # Previous Applications: Refused Applications - only numerical features\n",
    "    refused = prev[prev['NAME_CONTRACT_STATUS_Refused'] == 1]\n",
    "    refused_agg = refused.groupby('SK_ID_CURR').agg(num_aggregations)\n",
    "    refused_agg.columns = pd.Index(['REFUSED_' + e[0] + \"_\" + e[1].upper() for e in refused_agg.columns.tolist()])\n",
    "    prev_agg = prev_agg.join(refused_agg, how='left', on='SK_ID_CURR')\n",
    "    del refused, refused_agg, approved, approved_agg, prev\n",
    "    gc.collect()\n",
    "    return prev_agg"
   ]
  },
  {
   "cell_type": "code",
   "execution_count": 7,
   "id": "84274b3f",
   "metadata": {
    "executionInfo": {
     "elapsed": 360,
     "status": "ok",
     "timestamp": 1665047032568,
     "user": {
      "displayName": "Marwa Houri",
      "userId": "00006557556480876839"
     },
     "user_tz": -120
    },
    "id": "84274b3f"
   },
   "outputs": [],
   "source": [
    "# Preprocess POS_CASH_balance.csv\n",
    "def pos_cash(num_rows = None, nan_as_category = True):\n",
    "    pos = pd.read_csv('POS_CASH_balance.csv', nrows = num_rows)\n",
    "    pos, cat_cols = one_hot_encoder(pos, nan_as_category= True)\n",
    "    # Features\n",
    "    aggregations = {\n",
    "        'MONTHS_BALANCE': ['max', 'mean', 'size'],\n",
    "        'SK_DPD': ['max', 'mean'],\n",
    "        'SK_DPD_DEF': ['max', 'mean']\n",
    "    }\n",
    "    for cat in cat_cols:\n",
    "        aggregations[cat] = ['mean']\n",
    "    \n",
    "    pos_agg = pos.groupby('SK_ID_CURR').agg(aggregations)\n",
    "    pos_agg.columns = pd.Index(['POS_' + e[0] + \"_\" + e[1].upper() for e in pos_agg.columns.tolist()])\n",
    "    # Count pos cash accounts\n",
    "    pos_agg['POS_COUNT'] = pos.groupby('SK_ID_CURR').size()\n",
    "    del pos\n",
    "    gc.collect()\n",
    "    return pos_agg"
   ]
  },
  {
   "cell_type": "code",
   "execution_count": 8,
   "id": "55df3a6c",
   "metadata": {
    "executionInfo": {
     "elapsed": 355,
     "status": "ok",
     "timestamp": 1665047035405,
     "user": {
      "displayName": "Marwa Houri",
      "userId": "00006557556480876839"
     },
     "user_tz": -120
    },
    "id": "55df3a6c"
   },
   "outputs": [],
   "source": [
    "    \n",
    "# Preprocess installments_payments.csv\n",
    "def installments_payments(num_rows = None, nan_as_category = True):\n",
    "    ins = pd.read_csv('installments_payments.csv', nrows = num_rows)\n",
    "    ins, cat_cols = one_hot_encoder(ins, nan_as_category= True)\n",
    "    # Percentage and difference paid in each installment (amount paid and installment value)\n",
    "    ins['PAYMENT_PERC'] = ins['AMT_PAYMENT'] / ins['AMT_INSTALMENT']\n",
    "    ins['PAYMENT_DIFF'] = ins['AMT_INSTALMENT'] - ins['AMT_PAYMENT']\n",
    "    # Days past due and days before due (no negative values)\n",
    "    ins['DPD'] = ins['DAYS_ENTRY_PAYMENT'] - ins['DAYS_INSTALMENT']\n",
    "    ins['DBD'] = ins['DAYS_INSTALMENT'] - ins['DAYS_ENTRY_PAYMENT']\n",
    "    ins['DPD'] = ins['DPD'].apply(lambda x: x if x > 0 else 0)\n",
    "    ins['DBD'] = ins['DBD'].apply(lambda x: x if x > 0 else 0)\n",
    "    # Features: Perform aggregations\n",
    "    aggregations = {\n",
    "        'NUM_INSTALMENT_VERSION': ['nunique'],\n",
    "        'DPD': ['max', 'mean', 'sum'],\n",
    "        'DBD': ['max', 'mean', 'sum'],\n",
    "        'PAYMENT_PERC': ['max', 'mean', 'sum', 'var'],\n",
    "        'PAYMENT_DIFF': ['max', 'mean', 'sum', 'var'],\n",
    "        'AMT_INSTALMENT': ['max', 'mean', 'sum'],\n",
    "        'AMT_PAYMENT': ['min', 'max', 'mean', 'sum'],\n",
    "        'DAYS_ENTRY_PAYMENT': ['max', 'mean', 'sum']\n",
    "    }\n",
    "    for cat in cat_cols:\n",
    "        aggregations[cat] = ['mean']\n",
    "    ins_agg = ins.groupby('SK_ID_CURR').agg(aggregations)\n",
    "    ins_agg.columns = pd.Index(['INSTAL_' + e[0] + \"_\" + e[1].upper() for e in ins_agg.columns.tolist()])\n",
    "    # Count installments accounts\n",
    "    ins_agg['INSTAL_COUNT'] = ins.groupby('SK_ID_CURR').size()\n",
    "    del ins\n",
    "    gc.collect()\n",
    "    return ins_agg"
   ]
  },
  {
   "cell_type": "code",
   "execution_count": 9,
   "id": "48bd8e63",
   "metadata": {
    "executionInfo": {
     "elapsed": 367,
     "status": "ok",
     "timestamp": 1665047038881,
     "user": {
      "displayName": "Marwa Houri",
      "userId": "00006557556480876839"
     },
     "user_tz": -120
    },
    "id": "48bd8e63"
   },
   "outputs": [],
   "source": [
    "# Preprocess credit_card_balance.csv\n",
    "def credit_card_balance(num_rows = None, nan_as_category = True):\n",
    "    cc = pd.read_csv('credit_card_balance.csv', nrows = num_rows)\n",
    "    cc, cat_cols = one_hot_encoder(cc, nan_as_category= True)\n",
    "    # General aggregations\n",
    "    cc.drop(['SK_ID_PREV'], axis= 1, inplace = True)\n",
    "    cc_agg = cc.groupby('SK_ID_CURR').agg(['min', 'max', 'mean', 'sum', 'var'])\n",
    "    cc_agg.columns = pd.Index(['CC_' + e[0] + \"_\" + e[1].upper() for e in cc_agg.columns.tolist()])\n",
    "    # Count credit card lines\n",
    "    cc_agg['CC_COUNT'] = cc.groupby('SK_ID_CURR').size()\n",
    "    del cc\n",
    "    gc.collect()\n",
    "    return cc_agg"
   ]
  },
  {
   "cell_type": "code",
   "execution_count": 10,
   "id": "6db3f530",
   "metadata": {
    "executionInfo": {
     "elapsed": 444,
     "status": "ok",
     "timestamp": 1665047042307,
     "user": {
      "displayName": "Marwa Houri",
      "userId": "00006557556480876839"
     },
     "user_tz": -120
    },
    "id": "6db3f530"
   },
   "outputs": [],
   "source": [
    "def main(debug = False):\n",
    "    num_rows = 10000 if debug else None\n",
    "    df = application_train_test(num_rows)\n",
    "    with timer(\"Process bureau and bureau_balance\"):\n",
    "        bureau = bureau_and_balance(num_rows)\n",
    "        print(\"Bureau df shape:\", bureau.shape)\n",
    "        df = df.join(bureau, how='left', on='SK_ID_CURR')\n",
    "        del bureau\n",
    "        gc.collect()\n",
    "    with timer(\"Process previous_applications\"):\n",
    "        prev = previous_applications(num_rows)\n",
    "        print(\"Previous applications df shape:\", prev.shape)\n",
    "        df = df.join(prev, how='left', on='SK_ID_CURR')\n",
    "        del prev\n",
    "        gc.collect()\n",
    "    with timer(\"Process POS-CASH balance\"):\n",
    "        pos = pos_cash(num_rows)\n",
    "        print(\"Pos-cash balance df shape:\", pos.shape)\n",
    "        df = df.join(pos, how='left', on='SK_ID_CURR')\n",
    "        del pos\n",
    "        gc.collect()\n",
    "    with timer(\"Process installments payments\"):\n",
    "        ins = installments_payments(num_rows)\n",
    "        print(\"Installments payments df shape:\", ins.shape)\n",
    "        df = df.join(ins, how='left', on='SK_ID_CURR')\n",
    "        del ins\n",
    "        gc.collect()\n",
    "    with timer(\"Process credit card balance\"):\n",
    "        cc = credit_card_balance(num_rows)\n",
    "        print(\"Credit card balance df shape:\", cc.shape)\n",
    "        df = df.join(cc, how='left', on='SK_ID_CURR')\n",
    "        del cc\n",
    "        gc.collect()\n",
    "    return df"
   ]
  },
  {
   "cell_type": "code",
   "execution_count": 11,
   "id": "54d530e3",
   "metadata": {},
   "outputs": [
    {
     "name": "stdout",
     "output_type": "stream",
     "text": [
      "Train samples: 307511\n",
      "Bureau df shape: (305811, 116)\n",
      "Process bureau and bureau_balance - done in 27s\n",
      "Previous applications df shape: (338857, 249)\n",
      "Process previous_applications - done in 51s\n",
      "Pos-cash balance df shape: (337252, 18)\n",
      "Process POS-CASH balance - done in 30s\n",
      "Installments payments df shape: (339587, 26)\n",
      "Process installments payments - done in 66s\n",
      "Credit card balance df shape: (103558, 141)\n",
      "Process credit card balance - done in 72s\n"
     ]
    }
   ],
   "source": [
    "df=main()"
   ]
  },
  {
   "cell_type": "code",
   "execution_count": 12,
   "id": "2f4a6933",
   "metadata": {
    "executionInfo": {
     "elapsed": 5,
     "status": "aborted",
     "timestamp": 1665046328376,
     "user": {
      "displayName": "Marwa Houri",
      "userId": "00006557556480876839"
     },
     "user_tz": -120
    },
    "id": "2f4a6933"
   },
   "outputs": [
    {
     "data": {
      "text/plain": [
       "(307507, 797)"
      ]
     },
     "execution_count": 12,
     "metadata": {},
     "output_type": "execute_result"
    }
   ],
   "source": [
    "df.shape"
   ]
  },
  {
   "cell_type": "code",
   "execution_count": 13,
   "id": "1c1415dc",
   "metadata": {
    "executionInfo": {
     "elapsed": 584016,
     "status": "ok",
     "timestamp": 1665048069933,
     "user": {
      "displayName": "Marwa Houri",
      "userId": "00006557556480876839"
     },
     "user_tz": -120
    },
    "id": "1c1415dc"
   },
   "outputs": [],
   "source": [
    "df.to_csv('all_data_clean.csv', index=False)"
   ]
  },
  {
   "cell_type": "code",
   "execution_count": 2,
   "id": "59305432",
   "metadata": {
    "executionInfo": {
     "elapsed": 58454,
     "status": "ok",
     "timestamp": 1665050246279,
     "user": {
      "displayName": "Marwa Houri",
      "userId": "00006557556480876839"
     },
     "user_tz": -120
    },
    "id": "59305432"
   },
   "outputs": [],
   "source": [
    "df=pd.read_csv('all_data_clean.csv')"
   ]
  },
  {
   "cell_type": "code",
   "execution_count": 3,
   "id": "92b4c8e2",
   "metadata": {},
   "outputs": [
    {
     "data": {
      "text/plain": [
       "(307507, 797)"
      ]
     },
     "execution_count": 3,
     "metadata": {},
     "output_type": "execute_result"
    }
   ],
   "source": [
    "df.shape"
   ]
  },
  {
   "cell_type": "markdown",
   "id": "983996d6",
   "metadata": {},
   "source": [
    "# Exploration du dataset final"
   ]
  },
  {
   "cell_type": "markdown",
   "id": "be54016c",
   "metadata": {},
   "source": [
    "## 1- Remplacer les valeur inf par Nan"
   ]
  },
  {
   "cell_type": "code",
   "execution_count": 4,
   "id": "a8549335",
   "metadata": {},
   "outputs": [
    {
     "data": {
      "text/plain": [
       "INSTAL_PAYMENT_PERC_MAX                      18\n",
       "REFUSED_APP_CREDIT_PERC_MAX                   1\n",
       "PREV_APP_CREDIT_PERC_MAX                      1\n",
       "SK_ID_CURR                                    0\n",
       "PREV_PRODUCT_COMBINATION_Card Street_MEAN     0\n",
       "                                             ..\n",
       "BURO_AMT_ANNUITY_MAX                          0\n",
       "BURO_AMT_ANNUITY_MEAN                         0\n",
       "BURO_CNT_CREDIT_PROLONG_SUM                   0\n",
       "BURO_MONTHS_BALANCE_MIN_MIN                   0\n",
       "CC_COUNT                                      0\n",
       "Length: 797, dtype: int64"
      ]
     },
     "execution_count": 4,
     "metadata": {},
     "output_type": "execute_result"
    }
   ],
   "source": [
    "np.isinf(df).sum().sort_values(ascending=False)"
   ]
  },
  {
   "cell_type": "code",
   "execution_count": 5,
   "id": "76136535",
   "metadata": {},
   "outputs": [],
   "source": [
    "pb_col=np.isinf(df).sum().sort_values(ascending=False)\n",
    "pb_col=pb_col[pb_col>0].index\n",
    "df[pb_col] =df[pb_col].replace(np.inf, np.nan)"
   ]
  },
  {
   "cell_type": "markdown",
   "id": "888e293c",
   "metadata": {},
   "source": [
    "## 2 - Explorer les valeurs Nan"
   ]
  },
  {
   "cell_type": "code",
   "execution_count": 6,
   "id": "d83bfc6b",
   "metadata": {
    "colab": {
     "base_uri": "https://localhost:8080/"
    },
    "executionInfo": {
     "elapsed": 962,
     "status": "ok",
     "timestamp": 1665050250916,
     "user": {
      "displayName": "Marwa Houri",
      "userId": "00006557556480876839"
     },
     "user_tz": -120
    },
    "id": "d83bfc6b",
    "outputId": "38229491-1e95-4d8d-fc37-42159aa86628"
   },
   "outputs": [
    {
     "data": {
      "text/plain": [
       "REFUSED_AMT_DOWN_PAYMENT_MAX      0.853116\n",
       "REFUSED_AMT_DOWN_PAYMENT_MEAN     0.853116\n",
       "REFUSED_AMT_DOWN_PAYMENT_MIN      0.853116\n",
       "REFUSED_RATE_DOWN_PAYMENT_MEAN    0.853116\n",
       "REFUSED_RATE_DOWN_PAYMENT_MAX     0.853116\n",
       "                                    ...   \n",
       "ORGANIZATION_TYPE_Emergency       0.000000\n",
       "ORGANIZATION_TYPE_Electricity     0.000000\n",
       "ORGANIZATION_TYPE_Culture         0.000000\n",
       "ORGANIZATION_TYPE_Construction    0.000000\n",
       "SK_ID_CURR                        0.000000\n",
       "Length: 797, dtype: float64"
      ]
     },
     "execution_count": 6,
     "metadata": {},
     "output_type": "execute_result"
    }
   ],
   "source": [
    "temp=df.isna().mean().sort_values(ascending=False)\n",
    "\n",
    "temp"
   ]
  },
  {
   "cell_type": "code",
   "execution_count": 7,
   "id": "ac20273f",
   "metadata": {},
   "outputs": [
    {
     "data": {
      "text/plain": [
       "count    797.000000\n",
       "mean       0.259274\n",
       "std        0.304385\n",
       "min        0.000000\n",
       "25%        0.051602\n",
       "50%        0.056678\n",
       "75%        0.673861\n",
       "max        0.853116\n",
       "dtype: float64"
      ]
     },
     "execution_count": 7,
     "metadata": {},
     "output_type": "execute_result"
    }
   ],
   "source": [
    "temp.describe()"
   ]
  },
  {
   "cell_type": "code",
   "execution_count": 8,
   "id": "83d465ab",
   "metadata": {
    "colab": {
     "base_uri": "https://localhost:8080/"
    },
    "executionInfo": {
     "elapsed": 974,
     "status": "ok",
     "timestamp": 1665050256855,
     "user": {
      "displayName": "Marwa Houri",
      "userId": "00006557556480876839"
     },
     "user_tz": -120
    },
    "id": "83d465ab",
    "outputId": "1ff699a1-2fc1-4c66-a718-8545950c21c7"
   },
   "outputs": [
    {
     "data": {
      "text/plain": [
       "count    797.000000\n",
       "mean       0.259274\n",
       "std        0.304385\n",
       "min        0.000000\n",
       "50%        0.056678\n",
       "60%        0.143151\n",
       "65%        0.251526\n",
       "70%        0.489773\n",
       "80%        0.714357\n",
       "90%        0.717389\n",
       "max        0.853116\n",
       "dtype: float64"
      ]
     },
     "execution_count": 8,
     "metadata": {},
     "output_type": "execute_result"
    }
   ],
   "source": [
    "temp.describe(percentiles=[0.60,0.65, 0.70, 0.80, 0.90])"
   ]
  },
  {
   "cell_type": "code",
   "execution_count": 9,
   "id": "AnpkJH3RurRA",
   "metadata": {
    "colab": {
     "base_uri": "https://localhost:8080/",
     "height": 265
    },
    "executionInfo": {
     "elapsed": 979,
     "status": "ok",
     "timestamp": 1665050296101,
     "user": {
      "displayName": "Marwa Houri",
      "userId": "00006557556480876839"
     },
     "user_tz": -120
    },
    "id": "AnpkJH3RurRA",
    "outputId": "5f8d6caa-42c7-4cc7-9c0c-ac0dadbc32f1"
   },
   "outputs": [
    {
     "data": {
      "image/png": "[encoded data removed]",
      "text/plain": [
       "<Figure size 640x480 with 1 Axes>"
      ]
     },
     "metadata": {},
     "output_type": "display_data"
    }
   ],
   "source": [
    "plt.boxplot(temp)\n",
    "plt.show()"
   ]
  },
  {
   "cell_type": "code",
   "execution_count": 10,
   "id": "fb2804bc",
   "metadata": {},
   "outputs": [
    {
     "data": {
      "text/plain": [
       "count    236.000000\n",
       "mean       0.708699\n",
       "std        0.071000\n",
       "min        0.501937\n",
       "25%        0.698722\n",
       "50%        0.717389\n",
       "75%        0.719444\n",
       "max        0.853116\n",
       "dtype: float64"
      ]
     },
     "execution_count": 10,
     "metadata": {},
     "output_type": "execute_result"
    }
   ],
   "source": [
    "temp=temp[temp>0.5]\n",
    "temp.describe()"
   ]
  },
  {
   "cell_type": "markdown",
   "id": "61867dbc",
   "metadata": {},
   "source": [
    "### On enleve les variables avec plus de 50% de valeurs manquantes"
   ]
  },
  {
   "cell_type": "code",
   "execution_count": 11,
   "id": "cb00e571",
   "metadata": {},
   "outputs": [],
   "source": [
    "df=df.drop(columns=temp.index)"
   ]
  },
  {
   "cell_type": "code",
   "execution_count": 12,
   "id": "eb4aceba",
   "metadata": {},
   "outputs": [
    {
     "data": {
      "text/plain": [
       "(307507, 561)"
      ]
     },
     "execution_count": 12,
     "metadata": {},
     "output_type": "execute_result"
    }
   ],
   "source": [
    "df.shape"
   ]
  },
  {
   "cell_type": "markdown",
   "id": "045df952",
   "metadata": {},
   "source": [
    "## 3- Explorer le jeu de donnee "
   ]
  },
  {
   "cell_type": "code",
   "execution_count": 13,
   "id": "ea85e96b",
   "metadata": {},
   "outputs": [
    {
     "data": {
      "text/plain": [
       "float64    385\n",
       "int64      176\n",
       "dtype: int64"
      ]
     },
     "execution_count": 13,
     "metadata": {},
     "output_type": "execute_result"
    }
   ],
   "source": [
    "df.dtypes.value_counts()"
   ]
  },
  {
   "cell_type": "code",
   "execution_count": 14,
   "id": "97d2898f",
   "metadata": {},
   "outputs": [],
   "source": [
    "data_type=df.dtypes\n",
    "\n",
    "cont_var=data_type[data_type=='float64'].index\n",
    "int_var=data_type[data_type=='int64'].index #contient des variable booleene et des variables quantitatives tel DAYS_Birth"
   ]
  },
  {
   "cell_type": "markdown",
   "id": "721f6179",
   "metadata": {},
   "source": [
    "### Exploration des valeurs manquantes des variables qualititatives\n",
    "Pas de valeurs manquantes dans les variables qualititatives restantes apres premier netoyage"
   ]
  },
  {
   "cell_type": "code",
   "execution_count": 16,
   "id": "76e0576c",
   "metadata": {},
   "outputs": [
    {
     "data": {
      "text/plain": [
       "SK_ID_CURR                      0\n",
       "TARGET                          0\n",
       "ORGANIZATION_TYPE_Emergency     0\n",
       "ORGANIZATION_TYPE_Government    0\n",
       "ORGANIZATION_TYPE_Hotel         0\n",
       "dtype: int64"
      ]
     },
     "execution_count": 16,
     "metadata": {},
     "output_type": "execute_result"
    }
   ],
   "source": [
    "df[int_var].isna().sum().sort_values(ascending=False).head(5)"
   ]
  },
  {
   "cell_type": "markdown",
   "id": "dfbc9fe3",
   "metadata": {},
   "source": [
    "### Exploration des valeurs manquantes pour les variables quantitatives"
   ]
  },
  {
   "cell_type": "code",
   "execution_count": 18,
   "id": "84b92f4d",
   "metadata": {},
   "outputs": [
    {
     "data": {
      "text/plain": [
       "FLOORSMAX_MEDI                  153019\n",
       "FLOORSMAX_MODE                  153019\n",
       "FLOORSMAX_AVG                   153019\n",
       "YEARS_BEGINEXPLUATATION_MODE    150006\n",
       "YEARS_BEGINEXPLUATATION_AVG     150006\n",
       "                                 ...  \n",
       "INCOME_CREDIT_PERC                   0\n",
       "AMT_CREDIT                           0\n",
       "DAYS_REGISTRATION                    0\n",
       "REGION_POPULATION_RELATIVE           0\n",
       "AMT_INCOME_TOTAL                     0\n",
       "Length: 385, dtype: int64"
      ]
     },
     "execution_count": 18,
     "metadata": {},
     "output_type": "execute_result"
    }
   ],
   "source": [
    "df[cont_var].isna().sum().sort_values(ascending=False)"
   ]
  },
  {
   "cell_type": "markdown",
   "id": "83cddb08",
   "metadata": {},
   "source": [
    "### Exploration de la variable cible TARGET\n",
    "les 2 classes sont tres desequilibrees"
   ]
  },
  {
   "cell_type": "code",
   "execution_count": 19,
   "id": "785b7420",
   "metadata": {},
   "outputs": [
    {
     "data": {
      "text/plain": [
       "0    0.91927\n",
       "1    0.08073\n",
       "Name: TARGET, dtype: float64"
      ]
     },
     "execution_count": 19,
     "metadata": {},
     "output_type": "execute_result"
    }
   ],
   "source": [
    "df['TARGET'].value_counts(normalize=True)"
   ]
  },
  {
   "cell_type": "code",
   "execution_count": 20,
   "id": "c0ebb5cb",
   "metadata": {},
   "outputs": [
    {
     "data": {
      "text/plain": [
       "0    282682\n",
       "1     24825\n",
       "Name: TARGET, dtype: int64"
      ]
     },
     "execution_count": 20,
     "metadata": {},
     "output_type": "execute_result"
    }
   ],
   "source": [
    "df['TARGET'].value_counts()"
   ]
  },
  {
   "cell_type": "code",
   "execution_count": 21,
   "id": "cc8ec64d",
   "metadata": {},
   "outputs": [
    {
     "data": {
      "image/png": "[encoded data removed]",
      "text/plain": [
       "<Figure size 640x480 with 1 Axes>"
      ]
     },
     "metadata": {},
     "output_type": "display_data"
    }
   ],
   "source": [
    "plt.hist(df['TARGET'])\n",
    "plt.show()"
   ]
  },
  {
   "cell_type": "markdown",
   "id": "bc6209a5",
   "metadata": {},
   "source": [
    "## 4- Enlever les variables a variances nulle "
   ]
  },
  {
   "cell_type": "code",
   "execution_count": 28,
   "id": "b22e950d",
   "metadata": {},
   "outputs": [
    {
     "data": {
      "text/html": [
       "<div>\n",
       "<style scoped>\n",
       "    .dataframe tbody tr th:only-of-type {\n",
       "        vertical-align: middle;\n",
       "    }\n",
       "\n",
       "    .dataframe tbody tr th {\n",
       "        vertical-align: top;\n",
       "    }\n",
       "\n",
       "    .dataframe thead th {\n",
       "        text-align: right;\n",
       "    }\n",
       "</style>\n",
       "<table border=\"1\" class=\"dataframe\">\n",
       "  <thead>\n",
       "    <tr style=\"text-align: right;\">\n",
       "      <th></th>\n",
       "      <th>count</th>\n",
       "      <th>mean</th>\n",
       "      <th>std</th>\n",
       "      <th>min</th>\n",
       "      <th>25%</th>\n",
       "      <th>50%</th>\n",
       "      <th>75%</th>\n",
       "      <th>max</th>\n",
       "    </tr>\n",
       "  </thead>\n",
       "  <tbody>\n",
       "    <tr>\n",
       "      <th>BURO_CREDIT_ACTIVE_nan_MEAN</th>\n",
       "      <td>263487.0</td>\n",
       "      <td>0.0</td>\n",
       "      <td>0.0</td>\n",
       "      <td>0.0</td>\n",
       "      <td>0.0</td>\n",
       "      <td>0.0</td>\n",
       "      <td>0.0</td>\n",
       "      <td>0.0</td>\n",
       "    </tr>\n",
       "    <tr>\n",
       "      <th>BURO_CREDIT_CURRENCY_nan_MEAN</th>\n",
       "      <td>263487.0</td>\n",
       "      <td>0.0</td>\n",
       "      <td>0.0</td>\n",
       "      <td>0.0</td>\n",
       "      <td>0.0</td>\n",
       "      <td>0.0</td>\n",
       "      <td>0.0</td>\n",
       "      <td>0.0</td>\n",
       "    </tr>\n",
       "    <tr>\n",
       "      <th>BURO_CREDIT_TYPE_nan_MEAN</th>\n",
       "      <td>263487.0</td>\n",
       "      <td>0.0</td>\n",
       "      <td>0.0</td>\n",
       "      <td>0.0</td>\n",
       "      <td>0.0</td>\n",
       "      <td>0.0</td>\n",
       "      <td>0.0</td>\n",
       "      <td>0.0</td>\n",
       "    </tr>\n",
       "    <tr>\n",
       "      <th>PREV_NAME_CONTRACT_TYPE_nan_MEAN</th>\n",
       "      <td>291053.0</td>\n",
       "      <td>0.0</td>\n",
       "      <td>0.0</td>\n",
       "      <td>0.0</td>\n",
       "      <td>0.0</td>\n",
       "      <td>0.0</td>\n",
       "      <td>0.0</td>\n",
       "      <td>0.0</td>\n",
       "    </tr>\n",
       "    <tr>\n",
       "      <th>PREV_WEEKDAY_APPR_PROCESS_START_nan_MEAN</th>\n",
       "      <td>291053.0</td>\n",
       "      <td>0.0</td>\n",
       "      <td>0.0</td>\n",
       "      <td>0.0</td>\n",
       "      <td>0.0</td>\n",
       "      <td>0.0</td>\n",
       "      <td>0.0</td>\n",
       "      <td>0.0</td>\n",
       "    </tr>\n",
       "    <tr>\n",
       "      <th>PREV_FLAG_LAST_APPL_PER_CONTRACT_nan_MEAN</th>\n",
       "      <td>291053.0</td>\n",
       "      <td>0.0</td>\n",
       "      <td>0.0</td>\n",
       "      <td>0.0</td>\n",
       "      <td>0.0</td>\n",
       "      <td>0.0</td>\n",
       "      <td>0.0</td>\n",
       "      <td>0.0</td>\n",
       "    </tr>\n",
       "    <tr>\n",
       "      <th>PREV_NAME_CASH_LOAN_PURPOSE_nan_MEAN</th>\n",
       "      <td>291053.0</td>\n",
       "      <td>0.0</td>\n",
       "      <td>0.0</td>\n",
       "      <td>0.0</td>\n",
       "      <td>0.0</td>\n",
       "      <td>0.0</td>\n",
       "      <td>0.0</td>\n",
       "      <td>0.0</td>\n",
       "    </tr>\n",
       "    <tr>\n",
       "      <th>PREV_NAME_CONTRACT_STATUS_nan_MEAN</th>\n",
       "      <td>291053.0</td>\n",
       "      <td>0.0</td>\n",
       "      <td>0.0</td>\n",
       "      <td>0.0</td>\n",
       "      <td>0.0</td>\n",
       "      <td>0.0</td>\n",
       "      <td>0.0</td>\n",
       "      <td>0.0</td>\n",
       "    </tr>\n",
       "    <tr>\n",
       "      <th>PREV_NAME_PAYMENT_TYPE_nan_MEAN</th>\n",
       "      <td>291053.0</td>\n",
       "      <td>0.0</td>\n",
       "      <td>0.0</td>\n",
       "      <td>0.0</td>\n",
       "      <td>0.0</td>\n",
       "      <td>0.0</td>\n",
       "      <td>0.0</td>\n",
       "      <td>0.0</td>\n",
       "    </tr>\n",
       "    <tr>\n",
       "      <th>PREV_CODE_REJECT_REASON_nan_MEAN</th>\n",
       "      <td>291053.0</td>\n",
       "      <td>0.0</td>\n",
       "      <td>0.0</td>\n",
       "      <td>0.0</td>\n",
       "      <td>0.0</td>\n",
       "      <td>0.0</td>\n",
       "      <td>0.0</td>\n",
       "      <td>0.0</td>\n",
       "    </tr>\n",
       "    <tr>\n",
       "      <th>PREV_NAME_CLIENT_TYPE_nan_MEAN</th>\n",
       "      <td>291053.0</td>\n",
       "      <td>0.0</td>\n",
       "      <td>0.0</td>\n",
       "      <td>0.0</td>\n",
       "      <td>0.0</td>\n",
       "      <td>0.0</td>\n",
       "      <td>0.0</td>\n",
       "      <td>0.0</td>\n",
       "    </tr>\n",
       "    <tr>\n",
       "      <th>PREV_NAME_GOODS_CATEGORY_House Construction_MEAN</th>\n",
       "      <td>291053.0</td>\n",
       "      <td>0.0</td>\n",
       "      <td>0.0</td>\n",
       "      <td>0.0</td>\n",
       "      <td>0.0</td>\n",
       "      <td>0.0</td>\n",
       "      <td>0.0</td>\n",
       "      <td>0.0</td>\n",
       "    </tr>\n",
       "    <tr>\n",
       "      <th>PREV_NAME_GOODS_CATEGORY_nan_MEAN</th>\n",
       "      <td>291053.0</td>\n",
       "      <td>0.0</td>\n",
       "      <td>0.0</td>\n",
       "      <td>0.0</td>\n",
       "      <td>0.0</td>\n",
       "      <td>0.0</td>\n",
       "      <td>0.0</td>\n",
       "      <td>0.0</td>\n",
       "    </tr>\n",
       "    <tr>\n",
       "      <th>PREV_NAME_PORTFOLIO_nan_MEAN</th>\n",
       "      <td>291053.0</td>\n",
       "      <td>0.0</td>\n",
       "      <td>0.0</td>\n",
       "      <td>0.0</td>\n",
       "      <td>0.0</td>\n",
       "      <td>0.0</td>\n",
       "      <td>0.0</td>\n",
       "      <td>0.0</td>\n",
       "    </tr>\n",
       "    <tr>\n",
       "      <th>PREV_NAME_PRODUCT_TYPE_nan_MEAN</th>\n",
       "      <td>291053.0</td>\n",
       "      <td>0.0</td>\n",
       "      <td>0.0</td>\n",
       "      <td>0.0</td>\n",
       "      <td>0.0</td>\n",
       "      <td>0.0</td>\n",
       "      <td>0.0</td>\n",
       "      <td>0.0</td>\n",
       "    </tr>\n",
       "    <tr>\n",
       "      <th>PREV_CHANNEL_TYPE_nan_MEAN</th>\n",
       "      <td>291053.0</td>\n",
       "      <td>0.0</td>\n",
       "      <td>0.0</td>\n",
       "      <td>0.0</td>\n",
       "      <td>0.0</td>\n",
       "      <td>0.0</td>\n",
       "      <td>0.0</td>\n",
       "      <td>0.0</td>\n",
       "    </tr>\n",
       "    <tr>\n",
       "      <th>PREV_NAME_SELLER_INDUSTRY_nan_MEAN</th>\n",
       "      <td>291053.0</td>\n",
       "      <td>0.0</td>\n",
       "      <td>0.0</td>\n",
       "      <td>0.0</td>\n",
       "      <td>0.0</td>\n",
       "      <td>0.0</td>\n",
       "      <td>0.0</td>\n",
       "      <td>0.0</td>\n",
       "    </tr>\n",
       "    <tr>\n",
       "      <th>PREV_NAME_YIELD_GROUP_nan_MEAN</th>\n",
       "      <td>291053.0</td>\n",
       "      <td>0.0</td>\n",
       "      <td>0.0</td>\n",
       "      <td>0.0</td>\n",
       "      <td>0.0</td>\n",
       "      <td>0.0</td>\n",
       "      <td>0.0</td>\n",
       "      <td>0.0</td>\n",
       "    </tr>\n",
       "    <tr>\n",
       "      <th>POS_NAME_CONTRACT_STATUS_nan_MEAN</th>\n",
       "      <td>289440.0</td>\n",
       "      <td>0.0</td>\n",
       "      <td>0.0</td>\n",
       "      <td>0.0</td>\n",
       "      <td>0.0</td>\n",
       "      <td>0.0</td>\n",
       "      <td>0.0</td>\n",
       "      <td>0.0</td>\n",
       "    </tr>\n",
       "  </tbody>\n",
       "</table>\n",
       "</div>"
      ],
      "text/plain": [
       "                                                     count  mean  std  min  \\\n",
       "BURO_CREDIT_ACTIVE_nan_MEAN                       263487.0   0.0  0.0  0.0   \n",
       "BURO_CREDIT_CURRENCY_nan_MEAN                     263487.0   0.0  0.0  0.0   \n",
       "BURO_CREDIT_TYPE_nan_MEAN                         263487.0   0.0  0.0  0.0   \n",
       "PREV_NAME_CONTRACT_TYPE_nan_MEAN                  291053.0   0.0  0.0  0.0   \n",
       "PREV_WEEKDAY_APPR_PROCESS_START_nan_MEAN          291053.0   0.0  0.0  0.0   \n",
       "PREV_FLAG_LAST_APPL_PER_CONTRACT_nan_MEAN         291053.0   0.0  0.0  0.0   \n",
       "PREV_NAME_CASH_LOAN_PURPOSE_nan_MEAN              291053.0   0.0  0.0  0.0   \n",
       "PREV_NAME_CONTRACT_STATUS_nan_MEAN                291053.0   0.0  0.0  0.0   \n",
       "PREV_NAME_PAYMENT_TYPE_nan_MEAN                   291053.0   0.0  0.0  0.0   \n",
       "PREV_CODE_REJECT_REASON_nan_MEAN                  291053.0   0.0  0.0  0.0   \n",
       "PREV_NAME_CLIENT_TYPE_nan_MEAN                    291053.0   0.0  0.0  0.0   \n",
       "PREV_NAME_GOODS_CATEGORY_House Construction_MEAN  291053.0   0.0  0.0  0.0   \n",
       "PREV_NAME_GOODS_CATEGORY_nan_MEAN                 291053.0   0.0  0.0  0.0   \n",
       "PREV_NAME_PORTFOLIO_nan_MEAN                      291053.0   0.0  0.0  0.0   \n",
       "PREV_NAME_PRODUCT_TYPE_nan_MEAN                   291053.0   0.0  0.0  0.0   \n",
       "PREV_CHANNEL_TYPE_nan_MEAN                        291053.0   0.0  0.0  0.0   \n",
       "PREV_NAME_SELLER_INDUSTRY_nan_MEAN                291053.0   0.0  0.0  0.0   \n",
       "PREV_NAME_YIELD_GROUP_nan_MEAN                    291053.0   0.0  0.0  0.0   \n",
       "POS_NAME_CONTRACT_STATUS_nan_MEAN                 289440.0   0.0  0.0  0.0   \n",
       "\n",
       "                                                  25%  50%  75%  max  \n",
       "BURO_CREDIT_ACTIVE_nan_MEAN                       0.0  0.0  0.0  0.0  \n",
       "BURO_CREDIT_CURRENCY_nan_MEAN                     0.0  0.0  0.0  0.0  \n",
       "BURO_CREDIT_TYPE_nan_MEAN                         0.0  0.0  0.0  0.0  \n",
       "PREV_NAME_CONTRACT_TYPE_nan_MEAN                  0.0  0.0  0.0  0.0  \n",
       "PREV_WEEKDAY_APPR_PROCESS_START_nan_MEAN          0.0  0.0  0.0  0.0  \n",
       "PREV_FLAG_LAST_APPL_PER_CONTRACT_nan_MEAN         0.0  0.0  0.0  0.0  \n",
       "PREV_NAME_CASH_LOAN_PURPOSE_nan_MEAN              0.0  0.0  0.0  0.0  \n",
       "PREV_NAME_CONTRACT_STATUS_nan_MEAN                0.0  0.0  0.0  0.0  \n",
       "PREV_NAME_PAYMENT_TYPE_nan_MEAN                   0.0  0.0  0.0  0.0  \n",
       "PREV_CODE_REJECT_REASON_nan_MEAN                  0.0  0.0  0.0  0.0  \n",
       "PREV_NAME_CLIENT_TYPE_nan_MEAN                    0.0  0.0  0.0  0.0  \n",
       "PREV_NAME_GOODS_CATEGORY_House Construction_MEAN  0.0  0.0  0.0  0.0  \n",
       "PREV_NAME_GOODS_CATEGORY_nan_MEAN                 0.0  0.0  0.0  0.0  \n",
       "PREV_NAME_PORTFOLIO_nan_MEAN                      0.0  0.0  0.0  0.0  \n",
       "PREV_NAME_PRODUCT_TYPE_nan_MEAN                   0.0  0.0  0.0  0.0  \n",
       "PREV_CHANNEL_TYPE_nan_MEAN                        0.0  0.0  0.0  0.0  \n",
       "PREV_NAME_SELLER_INDUSTRY_nan_MEAN                0.0  0.0  0.0  0.0  \n",
       "PREV_NAME_YIELD_GROUP_nan_MEAN                    0.0  0.0  0.0  0.0  \n",
       "POS_NAME_CONTRACT_STATUS_nan_MEAN                 0.0  0.0  0.0  0.0  "
      ]
     },
     "execution_count": 28,
     "metadata": {},
     "output_type": "execute_result"
    }
   ],
   "source": [
    "temp=df.describe().transpose()\n",
    "temp[temp['std']==0]"
   ]
  },
  {
   "cell_type": "code",
   "execution_count": 30,
   "id": "f5f65113",
   "metadata": {},
   "outputs": [
    {
     "data": {
      "text/plain": [
       "(307507, 542)"
      ]
     },
     "execution_count": 30,
     "metadata": {},
     "output_type": "execute_result"
    }
   ],
   "source": [
    "to_del=temp[temp['std']==0].index\n",
    "df=df.drop(columns=to_del)\n",
    "df.shape"
   ]
  },
  {
   "cell_type": "code",
   "execution_count": 31,
   "id": "91760592",
   "metadata": {},
   "outputs": [],
   "source": [
    "df.to_csv('df_clean_withNa.csv', index=False)"
   ]
  },
  {
   "cell_type": "markdown",
   "id": "da9ab5ab",
   "metadata": {},
   "source": [
    "### Exploration des variables quasi constantes\n",
    "Nous regardons la distribution des variables et donnant notre attention aux variables nulles sur prestques toutes les valeurs. Pour cela on calcul la difference entre la valeur minimal et le quantile 0.99"
   ]
  },
  {
   "cell_type": "code",
   "execution_count": 26,
   "id": "1494aa60",
   "metadata": {
    "executionInfo": {
     "elapsed": 42220,
     "status": "ok",
     "timestamp": 1665050897255,
     "user": {
      "displayName": "Marwa Houri",
      "userId": "00006557556480876839"
     },
     "user_tz": -120
    },
    "id": "1494aa60"
   },
   "outputs": [],
   "source": [
    "df=pd.read_csv('df_clean_withNa.csv')"
   ]
  },
  {
   "cell_type": "code",
   "execution_count": 27,
   "id": "b9c14f7a",
   "metadata": {},
   "outputs": [],
   "source": [
    "data_type=df.dtypes\n",
    "\n",
    "cont_var=data_type[data_type=='float64'].index\n",
    "int_var=data_type[data_type=='int64'].index #contient des variable booleene et des variables quantitatives tel DAYS_Birth"
   ]
  },
  {
   "cell_type": "code",
   "execution_count": 28,
   "id": "f39621ec",
   "metadata": {},
   "outputs": [],
   "source": [
    "dist=pd.DataFrame()\n",
    "dist['min']=df[cont_var].min()\n",
    "dist[0.99]=df[cont_var].quantile(0.99)\n",
    "dist['IQR']=dist[0.99]-dist['min']\n",
    "temp=dist[dist['IQR']==0].index"
   ]
  },
  {
   "cell_type": "code",
   "execution_count": 31,
   "id": "848d24ae",
   "metadata": {},
   "outputs": [
    {
     "data": {
      "text/plain": [
       "72"
      ]
     },
     "execution_count": 31,
     "metadata": {},
     "output_type": "execute_result"
    }
   ],
   "source": [
    "len(temp)"
   ]
  },
  {
   "cell_type": "code",
   "execution_count": 32,
   "id": "ab1bf3a5",
   "metadata": {},
   "outputs": [],
   "source": [
    "#On verifie que la quasi constance est la meme pour les 2 groupes de labels \n",
    "#(le quantile 0.99 est nulle pour la classe minoritaire)\n",
    "to_del=df.groupby(by='TARGET')[temp].quantile(0.99).transpose()[df.groupby(by='TARGET')[temp].quantile(0.99).transpose()[1]==0]"
   ]
  },
  {
   "cell_type": "code",
   "execution_count": 35,
   "id": "ee43f2ee",
   "metadata": {},
   "outputs": [
    {
     "data": {
      "text/plain": [
       "(307507, 472)"
      ]
     },
     "execution_count": 35,
     "metadata": {},
     "output_type": "execute_result"
    }
   ],
   "source": [
    "df=df.drop(columns=to_del.index)\n",
    "df.shape"
   ]
  },
  {
   "cell_type": "code",
   "execution_count": 36,
   "id": "9fb506bf",
   "metadata": {},
   "outputs": [],
   "source": [
    "data_type=df.dtypes\n",
    "#cat_var=data_type[data_type=='uint8'].index # valeurs generer par one hot encoder\n",
    "cont_var=data_type[data_type=='float64'].index\n",
    "#int_var=data_type[data_type=='int64'].index #contient des variable booleene et des variables quantitatives tel DAYS_Birth"
   ]
  },
  {
   "cell_type": "markdown",
   "id": "30024eaa",
   "metadata": {},
   "source": [
    "### On explore les variables constantes a 95% dansles 2 categories label"
   ]
  },
  {
   "cell_type": "code",
   "execution_count": 39,
   "id": "f493cc94",
   "metadata": {},
   "outputs": [
    {
     "data": {
      "text/plain": [
       "31"
      ]
     },
     "execution_count": 39,
     "metadata": {},
     "output_type": "execute_result"
    }
   ],
   "source": [
    "dist=pd.DataFrame()\n",
    "dist['min']=df[cont_var].min()\n",
    "dist[0.95]=df[cont_var].quantile(0.95)\n",
    "dist['IQR']=dist[0.95]-dist['min']\n",
    "temp=dist[dist['IQR']==0].index\n",
    "len(temp)"
   ]
  },
  {
   "cell_type": "code",
   "execution_count": 40,
   "id": "659ea66a",
   "metadata": {},
   "outputs": [],
   "source": [
    "to_del=df.groupby(by='TARGET')[temp].quantile(0.95).transpose()[df.groupby(by='TARGET')[temp].quantile(0.95).transpose()[1]==0]"
   ]
  },
  {
   "cell_type": "code",
   "execution_count": 41,
   "id": "6929e756",
   "metadata": {},
   "outputs": [
    {
     "data": {
      "text/plain": [
       "(307507, 444)"
      ]
     },
     "execution_count": 41,
     "metadata": {},
     "output_type": "execute_result"
    }
   ],
   "source": [
    "df=df.drop(columns=to_del.index)\n",
    "df.shape"
   ]
  },
  {
   "cell_type": "markdown",
   "id": "9abc6027",
   "metadata": {
    "id": "9abc6027"
   },
   "source": [
    "## 5- Remplacement des valeurs Nan"
   ]
  },
  {
   "cell_type": "code",
   "execution_count": 51,
   "id": "aa1b9799",
   "metadata": {},
   "outputs": [],
   "source": [
    "data_type=df.dtypes\n",
    "cont_var=data_type[data_type=='float64'].index"
   ]
  },
  {
   "cell_type": "markdown",
   "id": "3acc4697",
   "metadata": {},
   "source": [
    "### Pour les variables de type Float (numeriques)\n",
    "On remplace les valeurs manquantes par la mediane"
   ]
  },
  {
   "cell_type": "code",
   "execution_count": 52,
   "id": "38946d48",
   "metadata": {},
   "outputs": [
    {
     "data": {
      "text/plain": [
       "count    268.000000\n",
       "mean       0.108325\n",
       "std        0.107722\n",
       "min        0.000000\n",
       "25%        0.053508\n",
       "50%        0.053508\n",
       "75%        0.143151\n",
       "max        0.497611\n",
       "dtype: float64"
      ]
     },
     "execution_count": 52,
     "metadata": {},
     "output_type": "execute_result"
    }
   ],
   "source": [
    "df[cont_var].isna().mean().describe()"
   ]
  },
  {
   "cell_type": "code",
   "execution_count": 56,
   "id": "04c45c93",
   "metadata": {},
   "outputs": [
    {
     "data": {
      "text/plain": [
       "FLOORSMAX_AVG                       0.497611\n",
       "FLOORSMAX_MODE                      0.497611\n",
       "FLOORSMAX_MEDI                      0.497611\n",
       "YEARS_BEGINEXPLUATATION_AVG         0.487813\n",
       "YEARS_BEGINEXPLUATATION_MODE        0.487813\n",
       "YEARS_BEGINEXPLUATATION_MEDI        0.487813\n",
       "TOTALAREA_MODE                      0.482688\n",
       "CLOSED_DAYS_CREDIT_VAR              0.425522\n",
       "BURO_AMT_CREDIT_MAX_OVERDUE_MEAN    0.402023\n",
       "ACTIVE_AMT_CREDIT_SUM_LIMIT_MEAN    0.386277\n",
       "CLOSED_AMT_CREDIT_SUM_LIMIT_MEAN    0.352964\n",
       "ACTIVE_AMT_CREDIT_SUM_DEBT_MEAN     0.328438\n",
       "ACTIVE_AMT_CREDIT_SUM_DEBT_MAX      0.328438\n",
       "ACTIVE_DAYS_CREDIT_ENDDATE_MEAN     0.322998\n",
       "ACTIVE_DAYS_CREDIT_ENDDATE_MIN      0.322998\n",
       "ACTIVE_DAYS_CREDIT_ENDDATE_MAX      0.322998\n",
       "APPROVED_APP_CREDIT_PERC_VAR        0.306549\n",
       "dtype: float64"
      ]
     },
     "execution_count": 56,
     "metadata": {},
     "output_type": "execute_result"
    }
   ],
   "source": [
    "temp=df.isna().mean().sort_values(ascending=False)\n",
    "temp=temp[temp>0]\n",
    "temp"
   ]
  },
  {
   "cell_type": "code",
   "execution_count": 62,
   "id": "4d203eb3",
   "metadata": {},
   "outputs": [],
   "source": [
    "for col in temp.index:\n",
    "    df[col]=df[col].fillna(df[col].median())"
   ]
  },
  {
   "cell_type": "code",
   "execution_count": 63,
   "id": "da660978",
   "metadata": {},
   "outputs": [
    {
     "data": {
      "text/plain": [
       "SK_ID_CURR                                        0\n",
       "PREV_CNT_PAYMENT_MEAN                             0\n",
       "PREV_WEEKDAY_APPR_PROCESS_START_WEDNESDAY_MEAN    0\n",
       "PREV_WEEKDAY_APPR_PROCESS_START_TUESDAY_MEAN      0\n",
       "PREV_WEEKDAY_APPR_PROCESS_START_THURSDAY_MEAN     0\n",
       "                                                 ..\n",
       "ORGANIZATION_TYPE_Industry: type 12               0\n",
       "ORGANIZATION_TYPE_Industry: type 11               0\n",
       "ORGANIZATION_TYPE_Industry: type 10               0\n",
       "ORGANIZATION_TYPE_Industry: type 1                0\n",
       "INSTAL_COUNT                                      0\n",
       "Length: 444, dtype: int64"
      ]
     },
     "execution_count": 63,
     "metadata": {},
     "output_type": "execute_result"
    }
   ],
   "source": [
    "df.isna().sum().sort_values(ascending=False)"
   ]
  },
  {
   "cell_type": "code",
   "execution_count": 64,
   "id": "c13e596c",
   "metadata": {},
   "outputs": [],
   "source": [
    "df.to_csv('df_clean_withoutNa.csv', index=False)"
   ]
  },
  {
   "cell_type": "markdown",
   "id": "f47a654b",
   "metadata": {},
   "source": [
    "### Calcul du rapport des classes\n",
    "On voit que le poids de la classe negative (classe 0) est 11 fois plus grand que celui de la classe positive (calsse 1)"
   ]
  },
  {
   "cell_type": "code",
   "execution_count": 65,
   "id": "1992e5e3",
   "metadata": {},
   "outputs": [],
   "source": [
    "X=df.drop(columns=['TARGET'])\n",
    "y=df[['TARGET']]"
   ]
  },
  {
   "cell_type": "code",
   "execution_count": 66,
   "id": "95ee4833",
   "metadata": {},
   "outputs": [
    {
     "data": {
      "text/plain": [
       "TARGET\n",
       "0         282682\n",
       "1          24825\n",
       "dtype: int64"
      ]
     },
     "execution_count": 66,
     "metadata": {},
     "output_type": "execute_result"
    }
   ],
   "source": [
    "y.value_counts()"
   ]
  },
  {
   "cell_type": "code",
   "execution_count": 67,
   "id": "9b157b4e",
   "metadata": {},
   "outputs": [
    {
     "data": {
      "text/plain": [
       "11.386988922457201"
      ]
     },
     "execution_count": 67,
     "metadata": {},
     "output_type": "execute_result"
    }
   ],
   "source": [
    "scale_pos_weight=y.value_counts()[0]/y.value_counts()[1]\n",
    "scale_pos_weight"
   ]
  },
  {
   "cell_type": "markdown",
   "id": "609e201c",
   "metadata": {
    "id": "609e201c"
   },
   "source": [
    "## 6- Diviser le dataset en train et test set"
   ]
  },
  {
   "cell_type": "code",
   "execution_count": 68,
   "id": "8b9bbf29",
   "metadata": {
    "executionInfo": {
     "elapsed": 1852,
     "status": "ok",
     "timestamp": 1665050927039,
     "user": {
      "displayName": "Marwa Houri",
      "userId": "00006557556480876839"
     },
     "user_tz": -120
    },
    "id": "8b9bbf29"
   },
   "outputs": [],
   "source": [
    "from sklearn.model_selection import train_test_split\n",
    "X_train, X_test, y_train, y_test = train_test_split(X, y, test_size=0.33, random_state=42)"
   ]
  },
  {
   "cell_type": "markdown",
   "id": "36fe1158",
   "metadata": {},
   "source": [
    "Le rapport des classes est maintenu dans les train et test sets"
   ]
  },
  {
   "cell_type": "code",
   "execution_count": 69,
   "id": "c74370e2",
   "metadata": {},
   "outputs": [
    {
     "name": "stdout",
     "output_type": "stream",
     "text": [
      "scale_pos_weight train set:  11.370399279495647\n",
      "scale_pos_weight test set:  11.420807833537332\n"
     ]
    }
   ],
   "source": [
    "print('scale_pos_weight train set: ', y_train.value_counts()[0]/y_train.value_counts()[1])\n",
    "print('scale_pos_weight test set: ', y_test.value_counts()[0]/y_test.value_counts()[1])\n"
   ]
  },
  {
   "cell_type": "code",
   "execution_count": 70,
   "id": "b1d55276",
   "metadata": {},
   "outputs": [],
   "source": [
    "id_train=X_train[['SK_ID_CURR']]\n",
    "X_train=X_train.drop(columns=['SK_ID_CURR'])\n",
    "id_test=X_test[['SK_ID_CURR']]\n",
    "X_test=X_test.drop(columns=['SK_ID_CURR'])"
   ]
  },
  {
   "cell_type": "code",
   "execution_count": 71,
   "id": "85bcb34f",
   "metadata": {},
   "outputs": [],
   "source": [
    "id_train.to_csv('id_train.csv', index=False)\n",
    "id_test.to_csv('id_test.csv', index=False)\n",
    "X_train.to_csv('X_train.csv', index=False)\n",
    "X_test.to_csv('X_test.csv', index=False)\n",
    "y_train.to_csv('y_train.csv', index=False)\n",
    "y_test.to_csv('y_test.csv', index=False)"
   ]
  },
  {
   "cell_type": "markdown",
   "id": "d5c5e556",
   "metadata": {
    "id": "d5c5e556"
   },
   "source": [
    "# Recherche des hyperparametres"
   ]
  },
  {
   "cell_type": "code",
   "execution_count": 2,
   "id": "48ef08ce",
   "metadata": {},
   "outputs": [],
   "source": [
    "X_train=pd.read_csv('X_train.csv')\n",
    "X_test=pd.read_csv('X_test.csv')\n",
    "y_train=pd.read_csv('y_train.csv')\n",
    "y_test=pd.read_csv('y_test.csv')"
   ]
  },
  {
   "cell_type": "code",
   "execution_count": 3,
   "id": "f6801556",
   "metadata": {},
   "outputs": [],
   "source": [
    "import re\n",
    "X_train = X_train.rename(columns = lambda x:re.sub('[^A-Za-z0-9_]+', '', x))\n",
    "X_test = X_test.rename(columns = lambda x:re.sub('[^A-Za-z0-9_]+', '', x))"
   ]
  },
  {
   "cell_type": "markdown",
   "id": "53ee3844",
   "metadata": {},
   "source": [
    "## 1- Algorithme d'optimisation personnalise"
   ]
  },
  {
   "cell_type": "markdown",
   "id": "f2130c31",
   "metadata": {},
   "source": [
    "### Custom metric\n",
    "La fonction de score personalisee est basee sur le rapport des classe, on donne aux faux negatifs 11 fois plus de poids qu'aux faux positifs"
   ]
  },
  {
   "cell_type": "code",
   "execution_count": 6,
   "id": "4149b85c",
   "metadata": {},
   "outputs": [],
   "source": [
    "def custom_metric(y_true, y_pred):\n",
    "    m=confusion_matrix(y_true, y_pred)\n",
    "    return(m[0,1]+11*m[1,0])"
   ]
  },
  {
   "cell_type": "markdown",
   "id": "ff5004e5",
   "metadata": {},
   "source": [
    "### Algorithme d'optimisation du seuil\n",
    "On utilisera cette fonction de score pour optimiser les resultat du modele et sela en effectuant un erecherche recursive sur le seuil qui minimisera ce score"
   ]
  },
  {
   "cell_type": "code",
   "execution_count": 14,
   "id": "61d77a3c",
   "metadata": {},
   "outputs": [],
   "source": [
    "def get_thresh(model):\n",
    "    best_th=None\n",
    "    best_score=np.inf\n",
    "    for thresh in np.linspace(0,1,100):\n",
    "        y_prob=model.predict_proba(X_test)\n",
    "        y_pred=(y_prob[:,1]>thresh).astype('int')\n",
    "        score=custom_metric(y_test, y_pred)\n",
    "        if score<best_score:\n",
    "            best_score=score\n",
    "            best_th=thresh\n",
    "    return(best_score, best_th)"
   ]
  },
  {
   "cell_type": "markdown",
   "id": "94474f99",
   "metadata": {},
   "source": [
    "### Score personalise\n",
    "On definit d'abord notre custom score a l'aide du make_scorer. Nous utiliserons ensuite ce score personalise dans la fonction a minimiser de hyperopt"
   ]
  },
  {
   "cell_type": "code",
   "execution_count": 126,
   "id": "9aa7432c",
   "metadata": {},
   "outputs": [],
   "source": [
    "from sklearn.metrics import  make_scorer\n",
    "custom_score = make_scorer(custom_metric)"
   ]
  },
  {
   "cell_type": "markdown",
   "id": "1c5d55a7",
   "metadata": {},
   "source": [
    "## 2- Dummy classifier \n",
    "On commence par utiiser le dummy classifier pour avoir un seuil de comparaison des performance. On utilise la strategie stratified "
   ]
  },
  {
   "cell_type": "code",
   "execution_count": 4,
   "id": "5e067c63",
   "metadata": {},
   "outputs": [],
   "source": [
    "dum_clf=DummyClassifier(strategy='stratified')\n",
    "dum_clf.fit(X_train, y_train)\n",
    "y_pred=dum_clf.predict(X_test)"
   ]
  },
  {
   "cell_type": "code",
   "execution_count": 5,
   "id": "d855737f",
   "metadata": {},
   "outputs": [
    {
     "data": {
      "text/plain": [
       "array([[85826,  7482],\n",
       "       [ 7499,   671]], dtype=int64)"
      ]
     },
     "execution_count": 5,
     "metadata": {},
     "output_type": "execute_result"
    }
   ],
   "source": [
    "confusion_matrix(y_test, y_pred)"
   ]
  },
  {
   "cell_type": "code",
   "execution_count": 8,
   "id": "ac1eb74f",
   "metadata": {},
   "outputs": [
    {
     "data": {
      "text/plain": [
       "89971"
      ]
     },
     "execution_count": 8,
     "metadata": {},
     "output_type": "execute_result"
    }
   ],
   "source": [
    "custom_metric(y_test, y_pred)"
   ]
  },
  {
   "cell_type": "code",
   "execution_count": 9,
   "id": "d2790461",
   "metadata": {},
   "outputs": [
    {
     "data": {
      "text/plain": [
       "0.5009718462313175"
      ]
     },
     "execution_count": 9,
     "metadata": {},
     "output_type": "execute_result"
    }
   ],
   "source": [
    "roc_auc_score(y_test, y_pred)"
   ]
  },
  {
   "cell_type": "markdown",
   "id": "54c4977b",
   "metadata": {},
   "source": [
    "## 3- Logistic Regression"
   ]
  },
  {
   "cell_type": "code",
   "execution_count": 18,
   "id": "7a68a9da",
   "metadata": {},
   "outputs": [],
   "source": [
    "clf=LogisticRegression(class_weight='balanced')\n",
    "clf.fit(X_train, y_train)\n",
    "y_pred=clf.predict(X_test)"
   ]
  },
  {
   "cell_type": "code",
   "execution_count": 19,
   "id": "cc9887c2",
   "metadata": {},
   "outputs": [
    {
     "data": {
      "text/plain": [
       "array([[74960, 18348],\n",
       "       [ 5601,  2569]], dtype=int64)"
      ]
     },
     "execution_count": 19,
     "metadata": {},
     "output_type": "execute_result"
    }
   ],
   "source": [
    "confusion_matrix(y_test, y_pred)"
   ]
  },
  {
   "cell_type": "code",
   "execution_count": 20,
   "id": "614b6779",
   "metadata": {},
   "outputs": [
    {
     "name": "stdout",
     "output_type": "stream",
     "text": [
      "Custom metric score est :  79959\n",
      "roc auc score est : 0.5589019983514671\n"
     ]
    }
   ],
   "source": [
    "print('Custom metric score est : ', custom_metric(y_test, y_pred))\n",
    "print('roc auc score est :', roc_auc_score(y_test, y_pred))"
   ]
  },
  {
   "cell_type": "code",
   "execution_count": 21,
   "id": "4b63715b",
   "metadata": {},
   "outputs": [
    {
     "name": "stdout",
     "output_type": "stream",
     "text": [
      "best score  75580\n",
      "best thresh  0.4747474747474748\n"
     ]
    }
   ],
   "source": [
    "score, thresh=get_thresh(clf)\n",
    "print('best score ', score)\n",
    "print('best thresh ', thresh)"
   ]
  },
  {
   "cell_type": "code",
   "execution_count": 22,
   "id": "f8735e86",
   "metadata": {},
   "outputs": [
    {
     "data": {
      "text/plain": [
       "array([[46394, 46914],\n",
       "       [ 2606,  5564]], dtype=int64)"
      ]
     },
     "execution_count": 22,
     "metadata": {},
     "output_type": "execute_result"
    }
   ],
   "source": [
    "y_prob=clf.predict_proba(X_test)\n",
    "y_pred=(y_prob[:,1]>thresh).astype('int')\n",
    "confusion_matrix(y_test, y_pred)"
   ]
  },
  {
   "cell_type": "markdown",
   "id": "ad74b5c7",
   "metadata": {},
   "source": [
    "### Remarque :\n",
    "Une classification en utilisant la regression logistique donne des meilluers resultats en ajoutant l'option **class_weight=balanced** cependant les resultats ne sont pas tres satisfaisant. Nous avons choisi de ne pas faire une recherche d'hyperparametre pour la regression logistique. "
   ]
  },
  {
   "cell_type": "markdown",
   "id": "a0296d27",
   "metadata": {},
   "source": [
    "## 4- Recherche avec hyperopt"
   ]
  },
  {
   "cell_type": "code",
   "execution_count": 5,
   "id": "3c7822a7",
   "metadata": {},
   "outputs": [],
   "source": [
    "from hyperopt import fmin, hp, tpe, space_eval, STATUS_OK\n",
    "from sklearn.model_selection import StratifiedKFold\n",
    "from imblearn.pipeline import Pipeline\n",
    "skf=StratifiedKFold(n_splits=3)\n",
    "features=X_train.columns\n",
    "X_train=X_train.values"
   ]
  },
  {
   "cell_type": "markdown",
   "id": "972ccb51",
   "metadata": {},
   "source": [
    "On utilise hyperopt pour la recherche d'hyperparametre, notre recherche utilisera l'algorithme de recherche Bayseeene tpe.suggest pour la minimisation de la fontion de perte. Pour la fonction de perte nous avons travailler sur 2 fonction de pertes differentes en comparant les resultats\n",
    "* Fonction de perte basee sur le negatif du roc-auc\n",
    "* Fonction de perte personalisee basee sur une ponderation des faux positifs et faux negatifs "
   ]
  },
  {
   "cell_type": "markdown",
   "id": "b7069ddc",
   "metadata": {},
   "source": [
    "Nous avons egalement utilise StratifiedKfold(n_split=3) pour la cross-validation. Le score de la fonction etant la moyenne des resultats sur les 3 folds"
   ]
  },
  {
   "cell_type": "markdown",
   "id": "2e77588e",
   "metadata": {},
   "source": [
    "On fait une recherhce d'hyperparametres pour les trois classifieurs suivants:\n",
    "* BalancedRandomForest classifier\n",
    "* Random forest classifier\n",
    "* LightGbm classifier"
   ]
  },
  {
   "cell_type": "markdown",
   "id": "b8517c40",
   "metadata": {},
   "source": [
    "### 4.1- Balanced Random forest classifier \n",
    "Classificateur de la librairie imblearn, random forest classifier avec methode de resampling embedded pour prendre en compte les datasets non-equilibrees."
   ]
  },
  {
   "cell_type": "markdown",
   "id": "5acf4a85",
   "metadata": {},
   "source": [
    "### Definition de l'espace de recherche des hyperparametres"
   ]
  },
  {
   "cell_type": "code",
   "execution_count": 152,
   "id": "9d01a443",
   "metadata": {},
   "outputs": [],
   "source": [
    "brf_space={'n_estimators':hp.randint('n_estimators',200,1000),\n",
    "            'max_depth': hp.randint('max_depth',10,200),           \n",
    "            'min_samples_split':hp.uniform('min_samples_split',0,1),   \n",
    "            'min_samples_leaf':hp.randint('min_samples_leaf',1,10),\n",
    "            'criterion':hp.choice('criterion',['gini','entropy']),\n",
    "            'sampling_strategy' : hp.choice('sampling_strategy',['auto', 'all']),\n",
    "            'max_features':hp.choice('max_features',['sqrt', 'log2']),\n",
    "            'class_weight' :hp.choice('class_weight',['balanced','balanced_subsample', None])}"
   ]
  },
  {
   "cell_type": "markdown",
   "id": "0883283a",
   "metadata": {},
   "source": [
    "### A- Recherche d'hyperparametre par score roc-auc"
   ]
  },
  {
   "cell_type": "markdown",
   "id": "5f9bcc99",
   "metadata": {},
   "source": [
    "### Definition de la fonction a minimiser"
   ]
  },
  {
   "cell_type": "code",
   "execution_count": 142,
   "id": "4efa90fb",
   "metadata": {},
   "outputs": [],
   "source": [
    "def objective(params):\n",
    "    \n",
    "    model = BalancedRandomForestClassifier( random_state=42, **params )\n",
    "   \n",
    "    score = -cross_val_score(model, X_train, y_train, cv=skf, scoring=\"roc_auc\", n_jobs=1).mean()\n",
    "\n",
    "    return {'loss': score, 'status': STATUS_OK}"
   ]
  },
  {
   "cell_type": "markdown",
   "id": "61f666ca",
   "metadata": {},
   "source": [
    "### Lancement des recherches "
   ]
  },
  {
   "cell_type": "code",
   "execution_count": 98,
   "id": "c8cfe49b",
   "metadata": {},
   "outputs": [
    {
     "name": "stdout",
     "output_type": "stream",
     "text": [
      "100%|██████████| 50/50 [2:41:47<00:00, 194.14s/trial, best loss: -0.7487155217889456]  \n"
     ]
    }
   ],
   "source": [
    "best_params = fmin(\n",
    "  fn=objective,\n",
    "  space=brf_space,\n",
    "  algo=tpe.suggest,\n",
    "  max_evals=50)"
   ]
  },
  {
   "cell_type": "markdown",
   "id": "2bc38569",
   "metadata": {},
   "source": [
    "### Meilleur model pour BalancedRandomForestClassifier\n",
    "Pour le meilleur modele on fait un fit sur la train test et on regarde les score du test set en calculant\n",
    "* La matrice de confusion\n",
    "* le seuil optimal et le score personalise  apres optimisation en utilisant l'algorithme d'optimisation et le costum metric\n"
   ]
  },
  {
   "cell_type": "markdown",
   "id": "09b68295",
   "metadata": {},
   "source": [
    "#### Matrice de confusion avant recherche du seuil optimal"
   ]
  },
  {
   "cell_type": "code",
   "execution_count": 108,
   "id": "74928c36",
   "metadata": {},
   "outputs": [
    {
     "data": {
      "text/plain": [
       "array([[63972, 29336],\n",
       "       [ 2564,  5606]], dtype=int64)"
      ]
     },
     "execution_count": 108,
     "metadata": {},
     "output_type": "execute_result"
    }
   ],
   "source": [
    "best=space_eval(brf_space, best_params)\n",
    "model  = BalancedRandomForestClassifier( random_state=42, **best )\n",
    "y_r=y_train.values\n",
    "model.fit(X_train, y_r)\n",
    "y_pred=model.predict(X_test.values)\n",
    "confusion_matrix(y_test, y_pred)"
   ]
  },
  {
   "cell_type": "code",
   "execution_count": 152,
   "id": "77edb76a",
   "metadata": {},
   "outputs": [],
   "source": [
    "pickle.dump((model),open('model_BRF.pkl','wb'))"
   ]
  },
  {
   "cell_type": "markdown",
   "id": "98b403d5",
   "metadata": {},
   "source": [
    "### Optimisation du custom_metric en variant le seuil de decision"
   ]
  },
  {
   "cell_type": "code",
   "execution_count": 57,
   "id": "e8ec0a36",
   "metadata": {},
   "outputs": [
    {
     "data": {
      "text/plain": [
       "57471"
      ]
     },
     "execution_count": 57,
     "metadata": {},
     "output_type": "execute_result"
    }
   ],
   "source": [
    "best_score, best_th=get_thresh(model)\n",
    "best_score"
   ]
  },
  {
   "cell_type": "code",
   "execution_count": 58,
   "id": "3bdb5c3c",
   "metadata": {},
   "outputs": [
    {
     "data": {
      "text/plain": [
       "0.5050505050505051"
      ]
     },
     "execution_count": 58,
     "metadata": {},
     "output_type": "execute_result"
    }
   ],
   "source": [
    "best_th"
   ]
  },
  {
   "cell_type": "code",
   "execution_count": 59,
   "id": "113b9e6f",
   "metadata": {},
   "outputs": [
    {
     "data": {
      "text/plain": [
       "array([[65295, 28013],\n",
       "       [ 2678,  5492]], dtype=int64)"
      ]
     },
     "execution_count": 59,
     "metadata": {},
     "output_type": "execute_result"
    }
   ],
   "source": [
    "y_prob=model.predict_proba(X_test)\n",
    "y_pred=(y_prob[:,1]>best_th).astype('int')\n",
    "confusion_matrix(y_test, y_pred)"
   ]
  },
  {
   "cell_type": "markdown",
   "id": "d24030f8",
   "metadata": {},
   "source": [
    "### B- Recherche des hyperparametres en utilisant le score personalisee"
   ]
  },
  {
   "cell_type": "markdown",
   "id": "d2b7d9e3",
   "metadata": {},
   "source": [
    "### Definition de la fonction de score et lancement des recherches"
   ]
  },
  {
   "cell_type": "code",
   "execution_count": 153,
   "id": "c11ca960",
   "metadata": {},
   "outputs": [
    {
     "name": "stdout",
     "output_type": "stream",
     "text": [
      "100%|██████████| 50/50 [6:55:02<00:00, 498.05s/trial, best loss: 39950.0]             \n"
     ]
    }
   ],
   "source": [
    "def objective(params):\n",
    "    \n",
    "    model  = BalancedRandomForestClassifier( random_state=42, **params )\n",
    "    \n",
    "    score = cross_val_score(model, X_train, y_train, cv=skf, scoring=custom_score, n_jobs=1).mean()\n",
    "\n",
    "    return {'loss': score, 'status': STATUS_OK}\n",
    "\n",
    "best_params = fmin(\n",
    "  fn=objective,\n",
    "  space=brf_space,\n",
    "  algo=tpe.suggest,\n",
    "  max_evals=50)"
   ]
  },
  {
   "cell_type": "markdown",
   "id": "f59337d5",
   "metadata": {},
   "source": [
    "### Meilleur model pour BalancedRandomForestClassifier\n"
   ]
  },
  {
   "cell_type": "code",
   "execution_count": 154,
   "id": "d8e60bfe",
   "metadata": {},
   "outputs": [],
   "source": [
    "model  = BalancedRandomForestClassifier( random_state=42, **space_eval(brf_space, best_params) )\n",
    "pickle.dump((model),open('model_BRF_custom.pkl','wb'))"
   ]
  },
  {
   "cell_type": "code",
   "execution_count": 12,
   "id": "8652026c",
   "metadata": {},
   "outputs": [
    {
     "name": "stdout",
     "output_type": "stream",
     "text": [
      "[[63720 29588]\n",
      " [ 2668  5502]]\n",
      "score avant optimisation 58936\n"
     ]
    }
   ],
   "source": [
    "model.fit(X_train, y_train)\n",
    "y_pred=model.predict(X_test)\n",
    "pickle.dump((model),open('model_BRF_custom.pkl','wb'))\n",
    "print(confusion_matrix(y_test, y_pred))\n",
    "print('score avant optimisation', custom_metric(y_test, y_pred))"
   ]
  },
  {
   "cell_type": "markdown",
   "id": "1f5bc15c",
   "metadata": {},
   "source": [
    "#### Execution de l'algorithme de recherche du meilleur seuil"
   ]
  },
  {
   "cell_type": "code",
   "execution_count": 156,
   "id": "f8269fd4",
   "metadata": {},
   "outputs": [
    {
     "name": "stdout",
     "output_type": "stream",
     "text": [
      "best score 58863\n",
      "best threshold 0.5050505050505051\n"
     ]
    }
   ],
   "source": [
    "best_score, best_th=get_thresh(model)\n",
    "print('best score', best_score)\n",
    "print('best threshold', best_th)"
   ]
  },
  {
   "cell_type": "code",
   "execution_count": 157,
   "id": "dbae3d0c",
   "metadata": {},
   "outputs": [
    {
     "data": {
      "text/plain": [
       "array([[65179, 28129],\n",
       "       [ 2794,  5376]], dtype=int64)"
      ]
     },
     "execution_count": 157,
     "metadata": {},
     "output_type": "execute_result"
    }
   ],
   "source": [
    "y_prob=model.predict_proba(X_test)\n",
    "y_pred=(y_prob[:,1]>best_th).astype('int')\n",
    "confusion_matrix(y_test, y_pred)"
   ]
  },
  {
   "cell_type": "markdown",
   "id": "6f239147",
   "metadata": {},
   "source": [
    "### Conclusion\n",
    "On voit que pour ce classifieur les resulats pour les 2 fonction de score sont assez proche et l'algorithme d'optimisation du score ne change que tres sensiblement le seuil de decision. Cela est du au fait que ce classifier optimise deja les resultas pour les classes desequilibree. Nous rechercherons cependant les resulats pour les classifieurs plus classiques pour pouvoir comparer les performances. "
   ]
  },
  {
   "cell_type": "markdown",
   "id": "d2253f79",
   "metadata": {},
   "source": [
    "### 4.2- Random Forest Classifier\n",
    "### Definition de l'espace de recherche de parametres"
   ]
  },
  {
   "cell_type": "code",
   "execution_count": 13,
   "id": "ab0f21bd",
   "metadata": {},
   "outputs": [],
   "source": [
    "rfc_space={'n_estimators':hp.randint('n_estimators',200,1000),\n",
    "              \n",
    "              'max_depth': hp.randint('max_depth',10,200),           \n",
    "            \n",
    "            'min_samples_split':hp.uniform('min_samples_split',0,1),   \n",
    "             'min_samples_leaf':hp.randint('min_samples_leaf',1,10),\n",
    "              \n",
    "               'criterion':hp.choice('criterion',['gini','entropy']),\n",
    "                \n",
    "           'max_features':hp.choice('max_features',['sqrt', 'log2']),\n",
    "             'class_weight' :hp.choice('class_weight',[None, 'balanced','balanced_subsample'])}"
   ]
  },
  {
   "cell_type": "markdown",
   "id": "7f74d21a",
   "metadata": {},
   "source": [
    "### A- Recherches des hyperparametres avec roc-auc en variant class-weight"
   ]
  },
  {
   "cell_type": "code",
   "execution_count": 14,
   "id": "1eb8423a",
   "metadata": {},
   "outputs": [
    {
     "name": "stdout",
     "output_type": "stream",
     "text": [
      "100%|██████████| 50/50 [5:44:01<00:00, 412.84s/trial, best loss: -0.7388966552321635]  \n"
     ]
    }
   ],
   "source": [
    "def objective(params):\n",
    "    \n",
    "    model = RandomForestClassifier(**params, random_state=42)\n",
    "   \n",
    "    score = -cross_val_score(model, X_train, y_train, cv=skf, scoring=\"roc_auc\", n_jobs=1).mean()\n",
    "\n",
    "    return {'loss': score, 'status': STATUS_OK}\n",
    "best_params = fmin(\n",
    "  fn=objective,\n",
    "  space=rfc_space,\n",
    "  algo=tpe.suggest,\n",
    "  max_evals=50)"
   ]
  },
  {
   "cell_type": "markdown",
   "id": "f7ff1379",
   "metadata": {},
   "source": [
    "### Meilleur modele pour RandomForestClassifier"
   ]
  },
  {
   "cell_type": "code",
   "execution_count": 15,
   "id": "699aa361",
   "metadata": {},
   "outputs": [],
   "source": [
    "best=space_eval(rfc_space, best_params)\n",
    "model = RandomForestClassifier(**best, random_state=42)\n"
   ]
  },
  {
   "cell_type": "code",
   "execution_count": 16,
   "id": "47ae2d8c",
   "metadata": {},
   "outputs": [
    {
     "data": {
      "text/plain": [
       "{'class_weight': None,\n",
       " 'criterion': 'gini',\n",
       " 'max_depth': 154,\n",
       " 'max_features': 'log2',\n",
       " 'min_samples_leaf': 4,\n",
       " 'min_samples_split': 0.003715668215662604,\n",
       " 'n_estimators': 591}"
      ]
     },
     "execution_count": 16,
     "metadata": {},
     "output_type": "execute_result"
    }
   ],
   "source": [
    "best"
   ]
  },
  {
   "cell_type": "code",
   "execution_count": 23,
   "id": "904bf00b",
   "metadata": {},
   "outputs": [],
   "source": [
    "model.fit(X_train, y_train)\n",
    "y_pred=model.predict(X_test)\n",
    "pickle.dump(model, open('rfc_model.pkl', 'wb'))"
   ]
  },
  {
   "cell_type": "code",
   "execution_count": 24,
   "id": "028597af",
   "metadata": {},
   "outputs": [
    {
     "data": {
      "text/plain": [
       "array([[93308,     0],\n",
       "       [ 8170,     0]], dtype=int64)"
      ]
     },
     "execution_count": 24,
     "metadata": {},
     "output_type": "execute_result"
    }
   ],
   "source": [
    "confusion_matrix(y_test, y_pred)"
   ]
  },
  {
   "cell_type": "markdown",
   "id": "74e91f2c",
   "metadata": {},
   "source": [
    "Ce modele predit correctement toutes les instances de la classe 0 mais aucun de la classe 1. On essaie d'ameliorer les performance en variant le seuil de decision pour minimiser notre score personalise"
   ]
  },
  {
   "cell_type": "markdown",
   "id": "aa698a14",
   "metadata": {},
   "source": [
    "### Optimisation du seuil par custom metric "
   ]
  },
  {
   "cell_type": "code",
   "execution_count": 27,
   "id": "5d414926",
   "metadata": {},
   "outputs": [],
   "source": [
    "best_score, best_th=get_thresh(model)"
   ]
  },
  {
   "cell_type": "code",
   "execution_count": 35,
   "id": "c61a6b2a",
   "metadata": {},
   "outputs": [],
   "source": [
    "best_score, best_th=get_thresh(model)\n",
    "pickle.dump((model, best_th), open('rfc_model_best_th.pkl', 'wb'))"
   ]
  },
  {
   "cell_type": "code",
   "execution_count": 30,
   "id": "ee24a46b",
   "metadata": {},
   "outputs": [
    {
     "data": {
      "text/plain": [
       "0.09090909090909091"
      ]
     },
     "execution_count": 30,
     "metadata": {},
     "output_type": "execute_result"
    }
   ],
   "source": [
    "best_th"
   ]
  },
  {
   "cell_type": "code",
   "execution_count": 34,
   "id": "a825474d",
   "metadata": {},
   "outputs": [
    {
     "data": {
      "text/plain": [
       "58949"
      ]
     },
     "execution_count": 34,
     "metadata": {},
     "output_type": "execute_result"
    }
   ],
   "source": [
    "best_score"
   ]
  },
  {
   "cell_type": "code",
   "execution_count": 32,
   "id": "bd6b307b",
   "metadata": {},
   "outputs": [
    {
     "data": {
      "text/plain": [
       "array([[65192, 28116],\n",
       "       [ 2803,  5367]], dtype=int64)"
      ]
     },
     "execution_count": 32,
     "metadata": {},
     "output_type": "execute_result"
    }
   ],
   "source": [
    "y_prob=model.predict_proba(X_test)\n",
    "y_pred=(y_prob[:,1]>best_th).astype('int')\n",
    "confusion_matrix(y_test, y_pred)"
   ]
  },
  {
   "cell_type": "markdown",
   "id": "bb0eb7b3",
   "metadata": {},
   "source": [
    "Les performances sont maitenent nettement meilleur en ce qui concerne la prediction de la classe 1 mais le seuil optimal est assez petit. Ce modele peut etre tres sensibles a la prediction des clients eligible au credit."
   ]
  },
  {
   "cell_type": "markdown",
   "id": "91c97d4c",
   "metadata": {},
   "source": [
    "On essaie de garder la fonction de score roc-auc mais ajouter une couche de resampling en utilisant Smote afin de reequilibrer le jeu de donnnees"
   ]
  },
  {
   "cell_type": "markdown",
   "id": "8bdd9d47",
   "metadata": {},
   "source": [
    "### B - Recherche des hyperparametres avec smote\n",
    "Afin de ne pas compromettre les resultatt du set de validation dans la validation croisee, on utilisera le pipeline de la librairie imblearn "
   ]
  },
  {
   "cell_type": "code",
   "execution_count": 36,
   "id": "63935238",
   "metadata": {},
   "outputs": [
    {
     "name": "stdout",
     "output_type": "stream",
     "text": [
      "100%|██████████| 50/50 [12:59:50<00:00, 935.81s/trial, best loss: -0.6978503531151093]   \n"
     ]
    }
   ],
   "source": [
    "smote=SMOTE()\n",
    "def objective(params):\n",
    "    \n",
    "    rfc = RandomForestClassifier(**params, random_state=42)\n",
    "    model= Pipeline(steps = [('sample', smote),\n",
    "                      ('clf',rfc)])\n",
    "    score = -cross_val_score(model, X_train, y_train, cv=skf, scoring=\"roc_auc\", n_jobs=1).mean()\n",
    "\n",
    "    return {'loss': score, 'status': STATUS_OK}\n",
    "best_params = fmin(\n",
    "  fn=objective,\n",
    "  space=rfc_space,\n",
    "  algo=tpe.suggest,\n",
    "  max_evals=50)\n"
   ]
  },
  {
   "cell_type": "code",
   "execution_count": 37,
   "id": "fdca6b12",
   "metadata": {},
   "outputs": [],
   "source": [
    "rfc = RandomForestClassifier(**space_eval(rfc_space, best_params), random_state=42)\n",
    "model= Pipeline(steps = [('sample', smote),\n",
    "                      ('clf',rfc)])\n"
   ]
  },
  {
   "cell_type": "code",
   "execution_count": 40,
   "id": "eb920e69",
   "metadata": {},
   "outputs": [
    {
     "data": {
      "text/plain": [
       "array([[89610,  3698],\n",
       "       [ 7070,  1100]], dtype=int64)"
      ]
     },
     "execution_count": 40,
     "metadata": {},
     "output_type": "execute_result"
    }
   ],
   "source": [
    "model.fit(X_train, y_train)\n",
    "y_pred=model.predict(X_test)\n",
    "pickle.dump(model, open('rfc_model_smote.pkl', 'wb'))\n",
    "confusion_matrix(y_test, y_pred)"
   ]
  },
  {
   "cell_type": "markdown",
   "id": "702de0c3",
   "metadata": {},
   "source": [
    "Le resampling ameliore un peu les resultats mais les predictions de la classe 1 ne sont toujours pas tres satisfaisant. On fait une recherche du seuil optimal qui minimise le score personalisee"
   ]
  },
  {
   "cell_type": "markdown",
   "id": "e3c3a40b",
   "metadata": {},
   "source": [
    "### Optimisation du seuil par custom metric "
   ]
  },
  {
   "cell_type": "code",
   "execution_count": 41,
   "id": "4e0ccbc5",
   "metadata": {},
   "outputs": [],
   "source": [
    "best_score, best_th=get_thresh(model)"
   ]
  },
  {
   "cell_type": "code",
   "execution_count": 42,
   "id": "4a87352a",
   "metadata": {},
   "outputs": [
    {
     "data": {
      "text/plain": [
       "65346"
      ]
     },
     "execution_count": 42,
     "metadata": {},
     "output_type": "execute_result"
    }
   ],
   "source": [
    "best_score"
   ]
  },
  {
   "cell_type": "code",
   "execution_count": 43,
   "id": "ec8f4346",
   "metadata": {},
   "outputs": [
    {
     "data": {
      "text/plain": [
       "0.30303030303030304"
      ]
     },
     "execution_count": 43,
     "metadata": {},
     "output_type": "execute_result"
    }
   ],
   "source": [
    "best_th"
   ]
  },
  {
   "cell_type": "code",
   "execution_count": 44,
   "id": "e3c8cef5",
   "metadata": {},
   "outputs": [
    {
     "data": {
      "text/plain": [
       "array([[59851, 33457],\n",
       "       [ 2899,  5271]], dtype=int64)"
      ]
     },
     "execution_count": 44,
     "metadata": {},
     "output_type": "execute_result"
    }
   ],
   "source": [
    "y_prob=model.predict_proba(X_test)\n",
    "y_pred=(y_prob[:,1]>best_th).astype('int')\n",
    "confusion_matrix(y_test, y_pred)"
   ]
  },
  {
   "cell_type": "code",
   "execution_count": 45,
   "id": "26310b90",
   "metadata": {},
   "outputs": [],
   "source": [
    "pickle.dump((model,best_th), open('rfc_model_smote_best_th.pkl', 'wb'))"
   ]
  },
  {
   "cell_type": "markdown",
   "id": "69be2088",
   "metadata": {},
   "source": [
    "Les resultas sont un peu plus positive, on voit qu'un seuil de decision a 0.30 donne des resultats nettement meilleurs. Nous essairons cependant de voir si une recherche basee sur la minimisation de notre score personalisee peut avoir de meilleurs performances. Nous effectuerons cette recherche sans resampling"
   ]
  },
  {
   "cell_type": "markdown",
   "id": "5e1b92b7",
   "metadata": {},
   "source": [
    "### C- Recherche d'hyperparametre par custom metric"
   ]
  },
  {
   "cell_type": "code",
   "execution_count": 146,
   "id": "68fc4b3a",
   "metadata": {},
   "outputs": [
    {
     "name": "stdout",
     "output_type": "stream",
     "text": [
      "100%|██████████| 50/50 [9:34:08<00:00, 688.97s/trial, best loss: 40894.0]             \n"
     ]
    }
   ],
   "source": [
    "def objective(params):\n",
    "    \n",
    "    model = RandomForestClassifier(**params, random_state=42)\n",
    "   \n",
    "    score = cross_val_score(model, X_train, y_train, cv=skf, scoring=custom_score, n_jobs=1).mean()\n",
    "\n",
    "    return {'loss': score, 'status': STATUS_OK}\n",
    "best_params = fmin(\n",
    "  fn=objective,\n",
    "  space=rfc_space,\n",
    "  algo=tpe.suggest,\n",
    "  max_evals=50)"
   ]
  },
  {
   "cell_type": "code",
   "execution_count": 147,
   "id": "ff7c2c6e",
   "metadata": {},
   "outputs": [],
   "source": [
    "best=space_eval(rfc_space, best_params)\n",
    "model = RandomForestClassifier(**best, random_state=42)\n",
    "\n"
   ]
  },
  {
   "cell_type": "code",
   "execution_count": 14,
   "id": "889d6eda",
   "metadata": {},
   "outputs": [
    {
     "name": "stdout",
     "output_type": "stream",
     "text": [
      "[[65560 27748]\n",
      " [ 2941  5229]]\n",
      "Score avant optimisation 60099\n"
     ]
    }
   ],
   "source": [
    "model.fit(X_train, y_train)\n",
    "y_pred=model.predict(X_test)\n",
    "pickle.dump(model, open('rfc_model_custom.pkl', 'wb'))\n",
    "print(confusion_matrix(y_test, y_pred))\n",
    "print('Score avant optimisation', custom_metric(y_test, y_pred))"
   ]
  },
  {
   "cell_type": "code",
   "execution_count": 149,
   "id": "9cfe7d08",
   "metadata": {},
   "outputs": [],
   "source": [
    "best_score, best_th=get_thresh(model)\n",
    "pickle.dump((model, best_th), open('rfc_model_custom_best_th.pkl', 'wb'))"
   ]
  },
  {
   "cell_type": "code",
   "execution_count": 150,
   "id": "b8fcac2f",
   "metadata": {},
   "outputs": [
    {
     "name": "stdout",
     "output_type": "stream",
     "text": [
      "best score 60001\n",
      "best threshhold 0.494949494949495\n"
     ]
    }
   ],
   "source": [
    "print('best score', best_score)\n",
    "print('best threshhold', best_th)"
   ]
  },
  {
   "cell_type": "code",
   "execution_count": 151,
   "id": "f4bd6180",
   "metadata": {},
   "outputs": [
    {
     "data": {
      "text/plain": [
       "array([[63766, 29542],\n",
       "       [ 2769,  5401]], dtype=int64)"
      ]
     },
     "execution_count": 151,
     "metadata": {},
     "output_type": "execute_result"
    }
   ],
   "source": [
    "y_prob=model.predict_proba(X_test)\n",
    "y_pred=(y_prob[:,1]>best_th).astype('int')\n",
    "confusion_matrix(y_test, y_pred)"
   ]
  },
  {
   "cell_type": "markdown",
   "id": "0eff3a26",
   "metadata": {},
   "source": [
    "Les resulats ne sont pas tres differentes des resulats du score roc-auc, cependant avec notre score personalise, le seuil de decision est deja satisfaisant et l'algorithme d'optimisation n'ameliore pas les performances"
   ]
  },
  {
   "cell_type": "markdown",
   "id": "f88d46dc",
   "metadata": {},
   "source": [
    "### 4.3- LightGbm Classifier\n",
    "### Definition de l'espace de recherche des parametres"
   ]
  },
  {
   "cell_type": "code",
   "execution_count": 124,
   "id": "cd017b88",
   "metadata": {},
   "outputs": [],
   "source": [
    "lgbm_space={    \n",
    "        'n_estimators': hp.randint('n_estimators',200, 1000),\n",
    "        'learning_rate': hp.uniform('learning_rate', 0, 0.3),\n",
    "        'subsample': hp.uniform('subsample',0.4,1), \n",
    "        'colsample_bytree': hp.uniform('colsample_bytree',0.4,1),\n",
    "        'reg_lambda': hp.loguniform('reg_lambda',np.log(1e-4),np.log(10)),\n",
    "        'reg_alpha': hp.loguniform('reg_alpha',np.log(1e-4),np.log(10)),\n",
    "        'class_weight' :hp.choice('class_weight',['balanced', None]),\n",
    "        'scale_pos_weight':hp.choice('scale_pos_weight', [1, int(scale_pos_weight)])\n",
    "    \n",
    "}"
   ]
  },
  {
   "cell_type": "markdown",
   "id": "a243e043",
   "metadata": {},
   "source": [
    "### A- Recherche des hyperparametre en utilisant le score roc-auc sans resampling"
   ]
  },
  {
   "cell_type": "markdown",
   "id": "fc1cf8fc",
   "metadata": {},
   "source": [
    "### Definition de la fonction de score et lancement de recherche"
   ]
  },
  {
   "cell_type": "code",
   "execution_count": 16,
   "id": "8502694f",
   "metadata": {},
   "outputs": [
    {
     "name": "stdout",
     "output_type": "stream",
     "text": [
      "100%|████████████████████████████████████████████| 50/50 [4:13:05<00:00, 303.72s/trial, best loss: -0.7744877422805555]\n"
     ]
    }
   ],
   "source": [
    "def objective(params): \n",
    "    model =  lgb.LGBMClassifier(boosting_type= 'gbdt', \n",
    "          objective = 'binary', \n",
    "          n_jobs = 1, random_state=42, **params)\n",
    "        \n",
    "    score = -cross_val_score(model, X_train, y_train, cv=skf, scoring=\"roc_auc\", n_jobs=1).mean()\n",
    "\n",
    "    return {'loss': score, 'status': STATUS_OK}\n",
    "\n",
    "best_params = fmin(\n",
    "  fn=objective,\n",
    "  space=lgbm_space,\n",
    "  algo=tpe.suggest,\n",
    "  max_evals=50)"
   ]
  },
  {
   "cell_type": "markdown",
   "id": "4436565c",
   "metadata": {},
   "source": [
    "### Meilleur modele"
   ]
  },
  {
   "cell_type": "code",
   "execution_count": 17,
   "id": "4402e175",
   "metadata": {},
   "outputs": [],
   "source": [
    "model = lgb.LGBMClassifier(boosting_type= 'gbdt', \n",
    "          objective = 'binary', \n",
    "          n_jobs = 1, random_state=42, **space_eval(lgbm_space, best_params) )\n"
   ]
  },
  {
   "cell_type": "code",
   "execution_count": 25,
   "id": "f7092c92-d3ab-4109-b732-3321a4058953",
   "metadata": {},
   "outputs": [
    {
     "data": {
      "text/plain": [
       "array([[92974,   334],\n",
       "       [ 7750,   420]], dtype=int64)"
      ]
     },
     "execution_count": 25,
     "metadata": {},
     "output_type": "execute_result"
    }
   ],
   "source": [
    "model.fit(X_train, y_train)\n",
    "y_pred=model.predict(X_test)\n",
    "pickle.dump(model, open('lgbm_model.pkl', 'wb'))\n",
    "confusion_matrix(y_test,y_pred)"
   ]
  },
  {
   "cell_type": "markdown",
   "id": "66a8e5a6",
   "metadata": {},
   "source": [
    "### Recherche du seuil optimal qui minimise la custom metric"
   ]
  },
  {
   "cell_type": "code",
   "execution_count": 28,
   "id": "6dc66267-c778-4e7c-82d5-8fde52292831",
   "metadata": {},
   "outputs": [],
   "source": [
    "best_score,best_th=get_thresh(model)"
   ]
  },
  {
   "cell_type": "code",
   "execution_count": 29,
   "id": "d257907e-5c5e-4dfb-b626-43e808b148e6",
   "metadata": {},
   "outputs": [],
   "source": [
    "pickle.dump((model, best_th), open('lgbm_model_best_th.pkl', 'wb'))"
   ]
  },
  {
   "cell_type": "code",
   "execution_count": 30,
   "id": "181a200e-8b8d-488b-bf12-eff40e03efb9",
   "metadata": {},
   "outputs": [
    {
     "data": {
      "text/plain": [
       "0.08080808080808081"
      ]
     },
     "execution_count": 30,
     "metadata": {},
     "output_type": "execute_result"
    }
   ],
   "source": [
    "best_th"
   ]
  },
  {
   "cell_type": "code",
   "execution_count": 31,
   "id": "b2afb9f0-7b52-4a30-bdf0-6c96ec1653c6",
   "metadata": {},
   "outputs": [
    {
     "data": {
      "text/plain": [
       "53374"
      ]
     },
     "execution_count": 31,
     "metadata": {},
     "output_type": "execute_result"
    }
   ],
   "source": [
    "best_score"
   ]
  },
  {
   "cell_type": "code",
   "execution_count": 33,
   "id": "6708cdbc-0414-467d-90fc-924904162d7e",
   "metadata": {},
   "outputs": [
    {
     "data": {
      "text/plain": [
       "array([[68589, 24719],\n",
       "       [ 2605,  5565]], dtype=int64)"
      ]
     },
     "execution_count": 33,
     "metadata": {},
     "output_type": "execute_result"
    }
   ],
   "source": [
    "y_prob=model.predict_proba(X_test)\n",
    "y_pred=(y_prob[:,1]>best_th).astype('int')\n",
    "confusion_matrix(y_test, y_pred)"
   ]
  },
  {
   "cell_type": "markdown",
   "id": "dbf5b8ca",
   "metadata": {},
   "source": [
    "### B- Recherche des hyperparametre en utilisant le score roc-auc avec resampling"
   ]
  },
  {
   "cell_type": "code",
   "execution_count": 19,
   "id": "c9cf0d4c",
   "metadata": {},
   "outputs": [
    {
     "name": "stdout",
     "output_type": "stream",
     "text": [
      "100%|█████████████████████████████████████████████| 50/50 [8:41:15<00:00, 625.51s/trial, best loss: -0.772614979344909]\n"
     ]
    }
   ],
   "source": [
    "def objective(params):\n",
    "    lgbm = lgb.LGBMClassifier(boosting_type= 'gbdt', \n",
    "          objective = 'binary', \n",
    "          n_jobs = 1, random_state=42, **params) \n",
    "    \n",
    "    model = Pipeline(steps=[('sample', smote),('clf', lgbm) ])\n",
    "   \n",
    "    \n",
    "    score = -cross_val_score(model, X_train, y_train, cv=skf, scoring=\"roc_auc\", n_jobs=1, error_score='raise').mean()\n",
    "\n",
    "    return {'loss': score, 'status': STATUS_OK}\n",
    "\n",
    "best_params=fmin(fn=objective, \n",
    "          space=lgbm_space, \n",
    "          algo=tpe.suggest, \n",
    "          max_evals=50, \n",
    "          )"
   ]
  },
  {
   "cell_type": "markdown",
   "id": "fc547139",
   "metadata": {},
   "source": [
    "### Meilleur modele"
   ]
  },
  {
   "cell_type": "code",
   "execution_count": 21,
   "id": "1a35525c-bd27-4d11-b080-ef8131821c43",
   "metadata": {},
   "outputs": [
    {
     "data": {
      "text/plain": [
       "array([[92955,   353],\n",
       "       [ 7766,   404]], dtype=int64)"
      ]
     },
     "execution_count": 21,
     "metadata": {},
     "output_type": "execute_result"
    }
   ],
   "source": [
    "lgbm = lgb.LGBMClassifier(boosting_type= 'gbdt', \n",
    "          objective = 'binary', \n",
    "          n_jobs = 1, random_state=42, **space_eval(lgbm_space, best_params)) \n",
    "model = Pipeline(steps=[('sample', smote),('clf', lgbm) ])\n",
    "\n",
    "model.fit(X_train, y_train)\n",
    "y_pred=model.predict(X_test)\n",
    "pickle.dump(model, open('lgbm_model_smote.pkl', 'wb'))\n",
    "confusion_matrix(y_test,y_pred)"
   ]
  },
  {
   "cell_type": "markdown",
   "id": "ed723979",
   "metadata": {},
   "source": [
    "### Recherche du seuil optimal qui minimise la custom metric"
   ]
  },
  {
   "cell_type": "code",
   "execution_count": 36,
   "id": "3286686f-1755-4bf3-89b4-8537402774c7",
   "metadata": {},
   "outputs": [],
   "source": [
    "best_score,best_th=get_thresh(model)"
   ]
  },
  {
   "cell_type": "code",
   "execution_count": 40,
   "id": "72fb1299-36c1-4130-b51a-b11a3b38993d",
   "metadata": {},
   "outputs": [
    {
     "data": {
      "text/plain": [
       "53855"
      ]
     },
     "execution_count": 40,
     "metadata": {},
     "output_type": "execute_result"
    }
   ],
   "source": [
    "best_score"
   ]
  },
  {
   "cell_type": "code",
   "execution_count": 41,
   "id": "f980d2e5-7645-40e7-aeb5-05d993e0cbe2",
   "metadata": {},
   "outputs": [
    {
     "data": {
      "text/plain": [
       "0.08080808080808081"
      ]
     },
     "execution_count": 41,
     "metadata": {},
     "output_type": "execute_result"
    }
   ],
   "source": [
    "best_th"
   ]
  },
  {
   "cell_type": "code",
   "execution_count": 37,
   "id": "75c484d8-6e2f-4cd3-a610-0cd14e04cb1c",
   "metadata": {},
   "outputs": [
    {
     "data": {
      "text/plain": [
       "array([[66700, 26608],\n",
       "       [ 2477,  5693]], dtype=int64)"
      ]
     },
     "execution_count": 37,
     "metadata": {},
     "output_type": "execute_result"
    }
   ],
   "source": [
    "y_prob=model.predict_proba(X_test)\n",
    "y_pred=(y_prob[:,1]>best_th).astype('int')\n",
    "confusion_matrix(y_test, y_pred)"
   ]
  },
  {
   "cell_type": "code",
   "execution_count": 39,
   "id": "762b3d8c-69ab-46a0-9317-e341523ba716",
   "metadata": {},
   "outputs": [],
   "source": [
    "pickle.dump((model,best_th), open('lgbm_model_smote_best_th.pkl', 'wb'))"
   ]
  },
  {
   "cell_type": "markdown",
   "id": "c2db148a",
   "metadata": {},
   "source": [
    "### C- Recherche d'hyperparametres en utilisant la custom-metric score"
   ]
  },
  {
   "cell_type": "markdown",
   "id": "7c188856",
   "metadata": {},
   "source": [
    "### Fonction de minimisation et resultats des recherches"
   ]
  },
  {
   "cell_type": "code",
   "execution_count": 137,
   "id": "4210f020",
   "metadata": {},
   "outputs": [
    {
     "name": "stdout",
     "output_type": "stream",
     "text": [
      "100%|██████████| 50/50 [6:48:19<00:00, 490.00s/trial, best loss: 36430.0]             \n"
     ]
    }
   ],
   "source": [
    "def objective(params):\n",
    "       \n",
    "    model=lgb.LGBMClassifier(boosting_type= 'gbdt', \n",
    "          objective = 'binary', \n",
    "          n_jobs = 1, random_state=42, **params)\n",
    "        \n",
    "    score = cross_val_score(model, X_train, y_train, cv=skf, scoring=custom_score, n_jobs=1).mean()\n",
    "\n",
    "    return {'loss': score, 'status': STATUS_OK}\n",
    "best_params = fmin(\n",
    "  fn=objective,\n",
    "  space=lgbm_space,\n",
    "  algo=tpe.suggest,\n",
    "  max_evals=50)"
   ]
  },
  {
   "cell_type": "markdown",
   "id": "3b90a212",
   "metadata": {},
   "source": [
    "### Meilleur modele"
   ]
  },
  {
   "cell_type": "code",
   "execution_count": 138,
   "id": "ba9cbc51",
   "metadata": {},
   "outputs": [],
   "source": [
    "model= lgb.LGBMClassifier(boosting_type= 'gbdt', \n",
    "          objective = 'binary', \n",
    "          n_jobs = 1, random_state=42, **space_eval(lgbm_space, best_params) )\n",
    "pickle.dump(model, open('lgbm_model_custom_noscale.pkl', 'wb'))"
   ]
  },
  {
   "cell_type": "code",
   "execution_count": 18,
   "id": "a0e92cc6",
   "metadata": {},
   "outputs": [
    {
     "name": "stdout",
     "output_type": "stream",
     "text": [
      "[[68627 24681]\n",
      " [ 2622  5548]]\n",
      "Score avant optimisation 53523\n"
     ]
    }
   ],
   "source": [
    "model.fit(X_train, y_train)\n",
    "pickle.dump(model, open('lgbm_model_custom_noscale.pkl', 'wb'))\n",
    "y_pred=model.predict(X_test)\n",
    "print(confusion_matrix(y_test, y_pred))\n",
    "print('Score avant optimisation', custom_metric(y_test, y_pred))"
   ]
  },
  {
   "cell_type": "markdown",
   "id": "e42dea4e",
   "metadata": {},
   "source": [
    "### Optimisation du seuil de decision"
   ]
  },
  {
   "cell_type": "code",
   "execution_count": 140,
   "id": "9bcb8593",
   "metadata": {},
   "outputs": [],
   "source": [
    "best_score, best_th=get_thresh(model)"
   ]
  },
  {
   "cell_type": "code",
   "execution_count": 141,
   "id": "b2dc82af",
   "metadata": {},
   "outputs": [
    {
     "data": {
      "text/plain": [
       "53454"
      ]
     },
     "execution_count": 141,
     "metadata": {},
     "output_type": "execute_result"
    }
   ],
   "source": [
    "best_score"
   ]
  },
  {
   "cell_type": "code",
   "execution_count": 142,
   "id": "36ecd85e",
   "metadata": {},
   "outputs": [
    {
     "data": {
      "text/plain": [
       "0.4747474747474748"
      ]
     },
     "execution_count": 142,
     "metadata": {},
     "output_type": "execute_result"
    }
   ],
   "source": [
    "best_th"
   ]
  },
  {
   "cell_type": "code",
   "execution_count": 143,
   "id": "baca8ed1",
   "metadata": {},
   "outputs": [
    {
     "data": {
      "text/plain": [
       "array([[65814, 27494],\n",
       "       [ 2360,  5810]], dtype=int64)"
      ]
     },
     "execution_count": 143,
     "metadata": {},
     "output_type": "execute_result"
    }
   ],
   "source": [
    "y_prob=model.predict_proba(X_test)\n",
    "y_pred=(y_prob[:,1]>best_th).astype('int')\n",
    "confusion_matrix(y_test, y_pred)"
   ]
  },
  {
   "cell_type": "code",
   "execution_count": 144,
   "id": "28b76470",
   "metadata": {},
   "outputs": [],
   "source": [
    "pickle.dump((model, best_th), open('lgbm_model_custom_noscale_best_th.pkl', 'wb'))"
   ]
  },
  {
   "cell_type": "markdown",
   "id": "e34b274a",
   "metadata": {},
   "source": [
    "### Conclusion\n",
    "La recherche des hyperparametres en minimisant le score personnalisee donne de meilleur resultats en terme de performance. l'algorithme d'optimisation du seuil de decision permet d'avoir de meilleur resulats en prenant 0.4747 comme seuil de decision. Ce modele semble etre le meilleur modele pour notre probleme de classification"
   ]
  }
 ],
 "metadata": {
  "colab": {
   "provenance": []
  },
  "kernelspec": {
   "display_name": "Python 3 (ipykernel)",
   "language": "python",
   "name": "python3"
  },
  "language_info": {
   "codemirror_mode": {
    "name": "ipython",
    "version": 3
   },
   "file_extension": ".py",
   "mimetype": "text/x-python",
   "name": "python",
   "nbconvert_exporter": "python",
   "pygments_lexer": "ipython3",
   "version": "3.9.15"
  }
 },
 "nbformat": 4,
 "nbformat_minor": 5
}
